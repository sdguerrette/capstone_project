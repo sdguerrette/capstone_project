{
 "cells": [
  {
   "cell_type": "code",
   "execution_count": 1,
   "id": "6073e73c",
   "metadata": {},
   "outputs": [],
   "source": [
    "import numpy as np\n",
    "import pandas as pd\n",
    "import xlrd\n",
    "import seaborn as sns\n",
    "import matplotlib.pyplot as plt\n",
    "%matplotlib inline\n",
    "\n",
    "\n",
    "from sklearn import tree\n",
    "from sklearn.ensemble import RandomForestRegressor\n",
    "from sklearn.ensemble import RandomForestClassifier\n",
    "from sklearn.preprocessing import StandardScaler\n",
    "from sklearn.model_selection import train_test_split\n",
    "from sklearn.metrics import confusion_matrix, accuracy_score, classification_report\n"
   ]
  },
  {
   "cell_type": "code",
   "execution_count": 2,
   "id": "13617e2f",
   "metadata": {},
   "outputs": [
    {
     "data": {
      "text/html": [
       "<div>\n",
       "<style scoped>\n",
       "    .dataframe tbody tr th:only-of-type {\n",
       "        vertical-align: middle;\n",
       "    }\n",
       "\n",
       "    .dataframe tbody tr th {\n",
       "        vertical-align: top;\n",
       "    }\n",
       "\n",
       "    .dataframe thead th {\n",
       "        text-align: right;\n",
       "    }\n",
       "</style>\n",
       "<table border=\"1\" class=\"dataframe\">\n",
       "  <thead>\n",
       "    <tr style=\"text-align: right;\">\n",
       "      <th></th>\n",
       "      <th>Unnamed: 0</th>\n",
       "      <th>FIPS</th>\n",
       "      <th>AREA_SQMI</th>\n",
       "      <th>E_TOTPOP</th>\n",
       "      <th>E_HU</th>\n",
       "      <th>E_HH</th>\n",
       "      <th>E_POV</th>\n",
       "      <th>E_UNEMP</th>\n",
       "      <th>E_PCI</th>\n",
       "      <th>E_NOHSDP</th>\n",
       "      <th>...</th>\n",
       "      <th>Neuroticism</th>\n",
       "      <th>Openness</th>\n",
       "      <th>Religiosity</th>\n",
       "      <th>Risk Taking</th>\n",
       "      <th>Selflessness</th>\n",
       "      <th>Tolerance</th>\n",
       "      <th>Work Ethic</th>\n",
       "      <th>dem_pct</th>\n",
       "      <th>BEDS</th>\n",
       "      <th>first_year_deaths</th>\n",
       "    </tr>\n",
       "  </thead>\n",
       "  <tbody>\n",
       "    <tr>\n",
       "      <th>0</th>\n",
       "      <td>0</td>\n",
       "      <td>1001</td>\n",
       "      <td>594.443459</td>\n",
       "      <td>55200</td>\n",
       "      <td>23315</td>\n",
       "      <td>21115</td>\n",
       "      <td>8422</td>\n",
       "      <td>1065</td>\n",
       "      <td>29372</td>\n",
       "      <td>4204</td>\n",
       "      <td>...</td>\n",
       "      <td>77.925476</td>\n",
       "      <td>78.222354</td>\n",
       "      <td>91.106719</td>\n",
       "      <td>53.333333</td>\n",
       "      <td>82.142857</td>\n",
       "      <td>70.000000</td>\n",
       "      <td>60.380952</td>\n",
       "      <td>27.018365</td>\n",
       "      <td>85.0</td>\n",
       "      <td>99</td>\n",
       "    </tr>\n",
       "    <tr>\n",
       "      <th>1</th>\n",
       "      <td>1</td>\n",
       "      <td>1009</td>\n",
       "      <td>644.830460</td>\n",
       "      <td>57645</td>\n",
       "      <td>24222</td>\n",
       "      <td>20600</td>\n",
       "      <td>8220</td>\n",
       "      <td>909</td>\n",
       "      <td>22656</td>\n",
       "      <td>7861</td>\n",
       "      <td>...</td>\n",
       "      <td>78.764620</td>\n",
       "      <td>78.193105</td>\n",
       "      <td>92.045455</td>\n",
       "      <td>57.603815</td>\n",
       "      <td>79.307632</td>\n",
       "      <td>64.953288</td>\n",
       "      <td>76.000000</td>\n",
       "      <td>9.569378</td>\n",
       "      <td>40.0</td>\n",
       "      <td>131</td>\n",
       "    </tr>\n",
       "    <tr>\n",
       "      <th>2</th>\n",
       "      <td>2</td>\n",
       "      <td>1013</td>\n",
       "      <td>776.838201</td>\n",
       "      <td>20025</td>\n",
       "      <td>10026</td>\n",
       "      <td>6708</td>\n",
       "      <td>4640</td>\n",
       "      <td>567</td>\n",
       "      <td>20430</td>\n",
       "      <td>2141</td>\n",
       "      <td>...</td>\n",
       "      <td>78.563680</td>\n",
       "      <td>76.109761</td>\n",
       "      <td>76.623924</td>\n",
       "      <td>69.058104</td>\n",
       "      <td>79.956648</td>\n",
       "      <td>67.920284</td>\n",
       "      <td>72.773953</td>\n",
       "      <td>41.789629</td>\n",
       "      <td>94.0</td>\n",
       "      <td>66</td>\n",
       "    </tr>\n",
       "    <tr>\n",
       "      <th>3</th>\n",
       "      <td>3</td>\n",
       "      <td>1015</td>\n",
       "      <td>605.867251</td>\n",
       "      <td>115098</td>\n",
       "      <td>53682</td>\n",
       "      <td>45033</td>\n",
       "      <td>20819</td>\n",
       "      <td>4628</td>\n",
       "      <td>24706</td>\n",
       "      <td>12620</td>\n",
       "      <td>...</td>\n",
       "      <td>79.439032</td>\n",
       "      <td>79.955121</td>\n",
       "      <td>77.918741</td>\n",
       "      <td>54.063568</td>\n",
       "      <td>76.745724</td>\n",
       "      <td>67.456150</td>\n",
       "      <td>68.292794</td>\n",
       "      <td>29.845243</td>\n",
       "      <td>552.0</td>\n",
       "      <td>305</td>\n",
       "    </tr>\n",
       "    <tr>\n",
       "      <th>4</th>\n",
       "      <td>4</td>\n",
       "      <td>1017</td>\n",
       "      <td>596.560643</td>\n",
       "      <td>33826</td>\n",
       "      <td>16981</td>\n",
       "      <td>13516</td>\n",
       "      <td>5531</td>\n",
       "      <td>773</td>\n",
       "      <td>22827</td>\n",
       "      <td>4383</td>\n",
       "      <td>...</td>\n",
       "      <td>76.995358</td>\n",
       "      <td>78.156771</td>\n",
       "      <td>75.891100</td>\n",
       "      <td>67.343775</td>\n",
       "      <td>79.128558</td>\n",
       "      <td>66.397785</td>\n",
       "      <td>69.554441</td>\n",
       "      <td>41.644857</td>\n",
       "      <td>115.0</td>\n",
       "      <td>117</td>\n",
       "    </tr>\n",
       "  </tbody>\n",
       "</table>\n",
       "<p>5 rows × 45 columns</p>\n",
       "</div>"
      ],
      "text/plain": [
       "   Unnamed: 0  FIPS   AREA_SQMI  E_TOTPOP   E_HU   E_HH  E_POV  E_UNEMP  \\\n",
       "0           0  1001  594.443459     55200  23315  21115   8422     1065   \n",
       "1           1  1009  644.830460     57645  24222  20600   8220      909   \n",
       "2           2  1013  776.838201     20025  10026   6708   4640      567   \n",
       "3           3  1015  605.867251    115098  53682  45033  20819     4628   \n",
       "4           4  1017  596.560643     33826  16981  13516   5531      773   \n",
       "\n",
       "   E_PCI  E_NOHSDP  ...  Neuroticism   Openness  Religiosity  Risk Taking  \\\n",
       "0  29372      4204  ...    77.925476  78.222354    91.106719    53.333333   \n",
       "1  22656      7861  ...    78.764620  78.193105    92.045455    57.603815   \n",
       "2  20430      2141  ...    78.563680  76.109761    76.623924    69.058104   \n",
       "3  24706     12620  ...    79.439032  79.955121    77.918741    54.063568   \n",
       "4  22827      4383  ...    76.995358  78.156771    75.891100    67.343775   \n",
       "\n",
       "   Selflessness  Tolerance  Work Ethic    dem_pct   BEDS  first_year_deaths  \n",
       "0     82.142857  70.000000   60.380952  27.018365   85.0                 99  \n",
       "1     79.307632  64.953288   76.000000   9.569378   40.0                131  \n",
       "2     79.956648  67.920284   72.773953  41.789629   94.0                 66  \n",
       "3     76.745724  67.456150   68.292794  29.845243  552.0                305  \n",
       "4     79.128558  66.397785   69.554441  41.644857  115.0                117  \n",
       "\n",
       "[5 rows x 45 columns]"
      ]
     },
     "execution_count": 2,
     "metadata": {},
     "output_type": "execute_result"
    }
   ],
   "source": [
    "df = pd.read_csv('../../data/merged_cleaned_data/deaths_merged_data_svi_val_cols.csv')\n",
    "df.head()"
   ]
  },
  {
   "cell_type": "code",
   "execution_count": 3,
   "id": "c44e314e",
   "metadata": {},
   "outputs": [],
   "source": [
    "#set index to FIPS\n",
    "df = df.set_index(df['FIPS'])\n",
    "df= df.drop(['FIPS','Unnamed: 0'], axis=1)"
   ]
  },
  {
   "cell_type": "code",
   "execution_count": 4,
   "id": "8622b474",
   "metadata": {},
   "outputs": [],
   "source": [
    "df = df.drop(index = 6037)"
   ]
  },
  {
   "cell_type": "code",
   "execution_count": 5,
   "id": "106bfab3",
   "metadata": {},
   "outputs": [],
   "source": [
    "# #create variable for case% for each counties population\n",
    "# df['case_pct'] = df['first_year_deaths']/df['E_TOTPOP']*100\n",
    "# df['case_pct'].head()"
   ]
  },
  {
   "cell_type": "code",
   "execution_count": 6,
   "id": "c977cd6d",
   "metadata": {},
   "outputs": [],
   "source": [
    "# df['case_pct'].describe()"
   ]
  },
  {
   "cell_type": "code",
   "execution_count": 7,
   "id": "771ec2aa",
   "metadata": {},
   "outputs": [],
   "source": [
    "# # bin and cut the case_pct column into 2 classifications\n",
    "# # q = df['case_pct'].quantile(.75)\n",
    "# q = df['case_pct'].quantile(.9)\n",
    "# bins = [0, q , 40]\n",
    "# labels = ['low','high']\n",
    "# df['case_class'] = pd.cut(df['case_pct'], bins, labels = labels)\n",
    "# df['case_class']"
   ]
  },
  {
   "cell_type": "code",
   "execution_count": 8,
   "id": "50cd8278",
   "metadata": {},
   "outputs": [],
   "source": [
    "# df['case_class'].value_counts()"
   ]
  },
  {
   "cell_type": "code",
   "execution_count": 9,
   "id": "8afabc15",
   "metadata": {},
   "outputs": [],
   "source": [
    "#drop unneeded columns\n",
    "# df = df.drop('case_pct', axis =1)\n",
    "# df"
   ]
  },
  {
   "cell_type": "code",
   "execution_count": 10,
   "id": "5263600e",
   "metadata": {},
   "outputs": [],
   "source": [
    "# #turn case % classifications into binary \n",
    "# df = pd.get_dummies(df, columns = ['case_class'])\n",
    "# df"
   ]
  },
  {
   "cell_type": "markdown",
   "id": "73aa10ce",
   "metadata": {},
   "source": [
    "## RF Regressor"
   ]
  },
  {
   "cell_type": "code",
   "execution_count": 11,
   "id": "7384c664",
   "metadata": {},
   "outputs": [
    {
     "data": {
      "text/plain": [
       "(3057, 43)"
      ]
     },
     "execution_count": 11,
     "metadata": {},
     "output_type": "execute_result"
    }
   ],
   "source": [
    "df.shape"
   ]
  },
  {
   "cell_type": "code",
   "execution_count": 12,
   "id": "8242a445",
   "metadata": {},
   "outputs": [],
   "source": [
    "# Define feature set (x)\n",
    "X = df.drop(['first_year_deaths'], axis=1)\n",
    "\n",
    "#Define (y)\n",
    "y= df['first_year_deaths']"
   ]
  },
  {
   "cell_type": "code",
   "execution_count": 13,
   "id": "426b3d01",
   "metadata": {},
   "outputs": [
    {
     "data": {
      "text/plain": [
       "['AREA_SQMI',\n",
       " 'E_TOTPOP',\n",
       " 'E_HU',\n",
       " 'E_HH',\n",
       " 'E_POV',\n",
       " 'E_UNEMP',\n",
       " 'E_PCI',\n",
       " 'E_NOHSDP',\n",
       " 'E_AGE65',\n",
       " 'E_AGE17',\n",
       " 'E_DISABL',\n",
       " 'E_SNGPNT',\n",
       " 'E_MINRTY',\n",
       " 'E_LIMENG',\n",
       " 'E_MUNIT',\n",
       " 'E_MOBILE',\n",
       " 'E_CROWD',\n",
       " 'E_NOVEH',\n",
       " 'E_GROUPQ',\n",
       " 'E_UNINSUR',\n",
       " 'E_DAYPOP',\n",
       " 'Agreeableness',\n",
       " 'Belief In Science',\n",
       " 'Collectivism',\n",
       " 'Conflict Awareness',\n",
       " 'Conscientiousness',\n",
       " 'Empathy',\n",
       " 'Employment Rate',\n",
       " 'Entrepreneurship',\n",
       " 'Extraversion',\n",
       " 'Gender Equality',\n",
       " 'Hopefulness',\n",
       " 'Income Per Capita',\n",
       " 'Neuroticism',\n",
       " 'Openness',\n",
       " 'Religiosity',\n",
       " 'Risk Taking',\n",
       " 'Selflessness',\n",
       " 'Tolerance',\n",
       " 'Work Ethic',\n",
       " 'dem_pct',\n",
       " 'BEDS']"
      ]
     },
     "execution_count": 13,
     "metadata": {},
     "output_type": "execute_result"
    }
   ],
   "source": [
    "X.columns.to_list()"
   ]
  },
  {
   "cell_type": "code",
   "execution_count": 14,
   "id": "44b3e403",
   "metadata": {},
   "outputs": [],
   "source": [
    "# # frequency histogram to see how many counties are high risk and low risk\n",
    "# plt.hist(df[\"case_pct\"])\n",
    "# plt.xlabel(\"High Risk Counties\")\n",
    "# plt.ylabel(\"Frequency\")\n",
    "# plt.show()"
   ]
  },
  {
   "cell_type": "code",
   "execution_count": 15,
   "id": "fd26af29",
   "metadata": {},
   "outputs": [],
   "source": [
    "#split data for training and testing\n",
    "from sklearn.model_selection import train_test_split\n",
    "X_train, X_test, y_train, y_test = train_test_split(X,y, test_size = 0.3 ,random_state= 42) "
   ]
  },
  {
   "cell_type": "code",
   "execution_count": 16,
   "id": "cb794166",
   "metadata": {},
   "outputs": [
    {
     "name": "stdout",
     "output_type": "stream",
     "text": [
      "(2139, 42)\n",
      "(918, 42)\n",
      "(2139,)\n",
      "(918,)\n"
     ]
    }
   ],
   "source": [
    "# Determine the shape of our training and testing sets.\n",
    "print(X_train.shape)\n",
    "print(X_test.shape)\n",
    "print(y_train.shape)\n",
    "print(y_test.shape)"
   ]
  },
  {
   "cell_type": "code",
   "execution_count": 17,
   "id": "f0a2871d",
   "metadata": {},
   "outputs": [],
   "source": [
    "# Creating a StandardScaler instance.\n",
    "scaler = StandardScaler()\n",
    "# Fitting the Standard Scaler with the training data.\n",
    "X_scaler = scaler.fit(X_train)\n",
    "\n",
    "# Scaling the data.\n",
    "X_train_scaled = X_scaler.transform(X_train)\n",
    "X_test_scaled = X_scaler.transform(X_test)"
   ]
  },
  {
   "cell_type": "code",
   "execution_count": 18,
   "id": "75de9e08",
   "metadata": {},
   "outputs": [],
   "source": [
    "from sklearn.ensemble import RandomForestRegressor\n",
    "rf = RandomForestRegressor(random_state = 42)"
   ]
  },
  {
   "cell_type": "code",
   "execution_count": 19,
   "id": "a2157069",
   "metadata": {},
   "outputs": [],
   "source": [
    "# from pprint import pprint\n",
    "# # Look at parameters used by our current forest\n",
    "# print('Parameters currently in use:\\n')\n",
    "# pprint(rf.get_params())"
   ]
  },
  {
   "cell_type": "code",
   "execution_count": 20,
   "id": "0c3efb31",
   "metadata": {},
   "outputs": [],
   "source": [
    "# # Number of trees in random forest\n",
    "# n_estimators = [int(x) for x in np.linspace(start = 150, stop = 2000, num = 10)]\n",
    "# # Number of features to consider at every split\n",
    "# max_features = ['auto', 'sqrt']\n",
    "# # Maximum number of levels in tree\n",
    "# max_depth = [int(x) for x in np.linspace(10, 110, num = 11)]\n",
    "# max_depth.append(None)\n",
    "# # Minimum number of samples required to split a node\n",
    "# min_samples_split = [2, 5, 10]\n",
    "# # Minimum number of samples required at each leaf node\n",
    "# min_samples_leaf = [1, 2, 4]\n",
    "# # Method of selecting samples for training each tree\n",
    "# bootstrap = [True, False]\n",
    "# # Create the random grid\n",
    "# random_grid = {'n_estimators': n_estimators,\n",
    "#                'max_features': max_features,\n",
    "#                'max_depth': max_depth,\n",
    "#                'min_samples_split': min_samples_split,\n",
    "#                'min_samples_leaf': min_samples_leaf,\n",
    "#                'bootstrap': bootstrap}\n",
    "# pprint(random_grid)"
   ]
  },
  {
   "cell_type": "code",
   "execution_count": 21,
   "id": "eb70d369",
   "metadata": {},
   "outputs": [],
   "source": [
    "# from sklearn.model_selection import RandomizedSearchCV\n",
    "\n",
    "# # Use the random grid to search for best hyperparameters\n",
    "# rf = RandomForestRegressor()\n",
    "# # Random search of parameters, using 3 fold cross validation, \n",
    "# # search across 100 different combinations, and use all available cores\n",
    "# rf_random = RandomizedSearchCV(estimator = rf, param_distributions = random_grid, n_iter = 100, cv = 3, verbose=2, random_state=42, n_jobs = -1)\n",
    "# # Fit the random search model\n",
    "# rf_random.fit(X_train_scaled, y_train)"
   ]
  },
  {
   "cell_type": "code",
   "execution_count": 22,
   "id": "beeeaa1d",
   "metadata": {},
   "outputs": [],
   "source": [
    "# #view best parameters \n",
    "# rf_random.best_params_"
   ]
  },
  {
   "cell_type": "code",
   "execution_count": 23,
   "id": "6d2beb3e",
   "metadata": {},
   "outputs": [],
   "source": [
    "# # to ignore division errors for zeros\n",
    "# np.seterr(invalid='ignore')"
   ]
  },
  {
   "cell_type": "code",
   "execution_count": 24,
   "id": "759e3b8c",
   "metadata": {},
   "outputs": [
    {
     "name": "stdout",
     "output_type": "stream",
     "text": [
      "(array([ 20,  60, 108, 166, 201, 244, 265, 368, 425, 516, 561, 635, 654,\n",
      "       780, 896]),)\n"
     ]
    }
   ],
   "source": [
    "#check zeros in y_test\n",
    "zeros = np.where(y_test ==0)\n",
    "print(zeros)"
   ]
  },
  {
   "cell_type": "code",
   "execution_count": 25,
   "id": "7047380d",
   "metadata": {},
   "outputs": [
    {
     "name": "stdout",
     "output_type": "stream",
     "text": [
      "15\n"
     ]
    }
   ],
   "source": [
    "#check for zeros\n",
    "n_zeros= zeros[0].size\n",
    "print (n_zeros)"
   ]
  },
  {
   "cell_type": "code",
   "execution_count": 26,
   "id": "9703f105",
   "metadata": {},
   "outputs": [
    {
     "name": "stdout",
     "output_type": "stream",
     "text": [
      "Model Performance\n",
      "Average Error: 50.5256 degrees.\n",
      "Accuracy = 94.50%.\n"
     ]
    }
   ],
   "source": [
    "# evaluate random search \n",
    "\n",
    "\n",
    "def evaluate(model, test_features, test_labels):\n",
    "    predictions = model.predict(X_test_scaled)\n",
    "    errors = abs(predictions - y_test)\n",
    "    mape = 100 * np.mean(errors / len(y_test))\n",
    "    accuracy = 100 - mape\n",
    "    print('Model Performance')\n",
    "    print('Average Error: {:0.4f} degrees.'.format(np.mean(errors)))\n",
    "    print('Accuracy = {:0.2f}%.'.format(accuracy))\n",
    "    \n",
    "    return accuracy\n",
    "\n",
    "base_model = RandomForestRegressor(n_estimators = 200, random_state = 42)\n",
    "base_model = base_model.fit(X_train_scaled, y_train)\n",
    "base_accuracy = evaluate(base_model, X_test_scaled, y_test)"
   ]
  },
  {
   "cell_type": "code",
   "execution_count": 27,
   "id": "ba9c754e",
   "metadata": {},
   "outputs": [],
   "source": [
    "# # evaluate performance with best_random estimator\n",
    "# best_random = rf_random.best_estimator_\n",
    "# random_accuracy = evaluate(best_random, X_test_scaled, y_test)"
   ]
  },
  {
   "cell_type": "code",
   "execution_count": 28,
   "id": "465c7910",
   "metadata": {},
   "outputs": [],
   "source": [
    "# # print the improvement \n",
    "# print('Improvement of {:0.2f}%.'.format( 100 * (random_accuracy - base_accuracy) / base_accuracy))\n"
   ]
  },
  {
   "cell_type": "code",
   "execution_count": 29,
   "id": "a8802e75",
   "metadata": {},
   "outputs": [
    {
     "data": {
      "text/html": [
       "<div>\n",
       "<style scoped>\n",
       "    .dataframe tbody tr th:only-of-type {\n",
       "        vertical-align: middle;\n",
       "    }\n",
       "\n",
       "    .dataframe tbody tr th {\n",
       "        vertical-align: top;\n",
       "    }\n",
       "\n",
       "    .dataframe thead th {\n",
       "        text-align: right;\n",
       "    }\n",
       "</style>\n",
       "<table border=\"1\" class=\"dataframe\">\n",
       "  <thead>\n",
       "    <tr style=\"text-align: right;\">\n",
       "      <th></th>\n",
       "      <th>0</th>\n",
       "    </tr>\n",
       "  </thead>\n",
       "  <tbody>\n",
       "    <tr>\n",
       "      <th>0</th>\n",
       "      <td>134.310</td>\n",
       "    </tr>\n",
       "    <tr>\n",
       "      <th>1</th>\n",
       "      <td>50.430</td>\n",
       "    </tr>\n",
       "    <tr>\n",
       "      <th>2</th>\n",
       "      <td>6.095</td>\n",
       "    </tr>\n",
       "    <tr>\n",
       "      <th>3</th>\n",
       "      <td>12.625</td>\n",
       "    </tr>\n",
       "    <tr>\n",
       "      <th>4</th>\n",
       "      <td>238.705</td>\n",
       "    </tr>\n",
       "    <tr>\n",
       "      <th>...</th>\n",
       "      <td>...</td>\n",
       "    </tr>\n",
       "    <tr>\n",
       "      <th>913</th>\n",
       "      <td>19.865</td>\n",
       "    </tr>\n",
       "    <tr>\n",
       "      <th>914</th>\n",
       "      <td>45.240</td>\n",
       "    </tr>\n",
       "    <tr>\n",
       "      <th>915</th>\n",
       "      <td>9.620</td>\n",
       "    </tr>\n",
       "    <tr>\n",
       "      <th>916</th>\n",
       "      <td>42.940</td>\n",
       "    </tr>\n",
       "    <tr>\n",
       "      <th>917</th>\n",
       "      <td>33.035</td>\n",
       "    </tr>\n",
       "  </tbody>\n",
       "</table>\n",
       "<p>918 rows × 1 columns</p>\n",
       "</div>"
      ],
      "text/plain": [
       "           0\n",
       "0    134.310\n",
       "1     50.430\n",
       "2      6.095\n",
       "3     12.625\n",
       "4    238.705\n",
       "..       ...\n",
       "913   19.865\n",
       "914   45.240\n",
       "915    9.620\n",
       "916   42.940\n",
       "917   33.035\n",
       "\n",
       "[918 rows x 1 columns]"
      ]
     },
     "execution_count": 29,
     "metadata": {},
     "output_type": "execute_result"
    }
   ],
   "source": [
    "preds = pd.DataFrame(base_model.predict(X_test_scaled))\n",
    "preds"
   ]
  },
  {
   "cell_type": "code",
   "execution_count": 30,
   "id": "0bad15be",
   "metadata": {},
   "outputs": [
    {
     "data": {
      "text/html": [
       "<div>\n",
       "<style scoped>\n",
       "    .dataframe tbody tr th:only-of-type {\n",
       "        vertical-align: middle;\n",
       "    }\n",
       "\n",
       "    .dataframe tbody tr th {\n",
       "        vertical-align: top;\n",
       "    }\n",
       "\n",
       "    .dataframe thead th {\n",
       "        text-align: right;\n",
       "    }\n",
       "</style>\n",
       "<table border=\"1\" class=\"dataframe\">\n",
       "  <thead>\n",
       "    <tr style=\"text-align: right;\">\n",
       "      <th></th>\n",
       "      <th>0</th>\n",
       "    </tr>\n",
       "  </thead>\n",
       "  <tbody>\n",
       "    <tr>\n",
       "      <th>0</th>\n",
       "      <td>79</td>\n",
       "    </tr>\n",
       "    <tr>\n",
       "      <th>1</th>\n",
       "      <td>85</td>\n",
       "    </tr>\n",
       "    <tr>\n",
       "      <th>2</th>\n",
       "      <td>1</td>\n",
       "    </tr>\n",
       "    <tr>\n",
       "      <th>3</th>\n",
       "      <td>4</td>\n",
       "    </tr>\n",
       "    <tr>\n",
       "      <th>4</th>\n",
       "      <td>200</td>\n",
       "    </tr>\n",
       "    <tr>\n",
       "      <th>...</th>\n",
       "      <td>...</td>\n",
       "    </tr>\n",
       "    <tr>\n",
       "      <th>913</th>\n",
       "      <td>6</td>\n",
       "    </tr>\n",
       "    <tr>\n",
       "      <th>914</th>\n",
       "      <td>61</td>\n",
       "    </tr>\n",
       "    <tr>\n",
       "      <th>915</th>\n",
       "      <td>7</td>\n",
       "    </tr>\n",
       "    <tr>\n",
       "      <th>916</th>\n",
       "      <td>34</td>\n",
       "    </tr>\n",
       "    <tr>\n",
       "      <th>917</th>\n",
       "      <td>20</td>\n",
       "    </tr>\n",
       "  </tbody>\n",
       "</table>\n",
       "<p>918 rows × 1 columns</p>\n",
       "</div>"
      ],
      "text/plain": [
       "       0\n",
       "0     79\n",
       "1     85\n",
       "2      1\n",
       "3      4\n",
       "4    200\n",
       "..   ...\n",
       "913    6\n",
       "914   61\n",
       "915    7\n",
       "916   34\n",
       "917   20\n",
       "\n",
       "[918 rows x 1 columns]"
      ]
     },
     "execution_count": 30,
     "metadata": {},
     "output_type": "execute_result"
    }
   ],
   "source": [
    "actual = y_test.values\n",
    "actual_df = pd.DataFrame(actual)\n",
    "actual_df"
   ]
  },
  {
   "cell_type": "code",
   "execution_count": 31,
   "id": "2dfb46b3",
   "metadata": {},
   "outputs": [
    {
     "data": {
      "text/html": [
       "<div>\n",
       "<style scoped>\n",
       "    .dataframe tbody tr th:only-of-type {\n",
       "        vertical-align: middle;\n",
       "    }\n",
       "\n",
       "    .dataframe tbody tr th {\n",
       "        vertical-align: top;\n",
       "    }\n",
       "\n",
       "    .dataframe thead th {\n",
       "        text-align: right;\n",
       "    }\n",
       "</style>\n",
       "<table border=\"1\" class=\"dataframe\">\n",
       "  <thead>\n",
       "    <tr style=\"text-align: right;\">\n",
       "      <th></th>\n",
       "      <th>Actual</th>\n",
       "      <th>Pred</th>\n",
       "    </tr>\n",
       "  </thead>\n",
       "  <tbody>\n",
       "    <tr>\n",
       "      <th>0</th>\n",
       "      <td>79</td>\n",
       "      <td>134.310</td>\n",
       "    </tr>\n",
       "    <tr>\n",
       "      <th>1</th>\n",
       "      <td>85</td>\n",
       "      <td>50.430</td>\n",
       "    </tr>\n",
       "    <tr>\n",
       "      <th>2</th>\n",
       "      <td>1</td>\n",
       "      <td>6.095</td>\n",
       "    </tr>\n",
       "    <tr>\n",
       "      <th>3</th>\n",
       "      <td>4</td>\n",
       "      <td>12.625</td>\n",
       "    </tr>\n",
       "    <tr>\n",
       "      <th>4</th>\n",
       "      <td>200</td>\n",
       "      <td>238.705</td>\n",
       "    </tr>\n",
       "    <tr>\n",
       "      <th>...</th>\n",
       "      <td>...</td>\n",
       "      <td>...</td>\n",
       "    </tr>\n",
       "    <tr>\n",
       "      <th>913</th>\n",
       "      <td>6</td>\n",
       "      <td>19.865</td>\n",
       "    </tr>\n",
       "    <tr>\n",
       "      <th>914</th>\n",
       "      <td>61</td>\n",
       "      <td>45.240</td>\n",
       "    </tr>\n",
       "    <tr>\n",
       "      <th>915</th>\n",
       "      <td>7</td>\n",
       "      <td>9.620</td>\n",
       "    </tr>\n",
       "    <tr>\n",
       "      <th>916</th>\n",
       "      <td>34</td>\n",
       "      <td>42.940</td>\n",
       "    </tr>\n",
       "    <tr>\n",
       "      <th>917</th>\n",
       "      <td>20</td>\n",
       "      <td>33.035</td>\n",
       "    </tr>\n",
       "  </tbody>\n",
       "</table>\n",
       "<p>918 rows × 2 columns</p>\n",
       "</div>"
      ],
      "text/plain": [
       "     Actual     Pred\n",
       "0        79  134.310\n",
       "1        85   50.430\n",
       "2         1    6.095\n",
       "3         4   12.625\n",
       "4       200  238.705\n",
       "..      ...      ...\n",
       "913       6   19.865\n",
       "914      61   45.240\n",
       "915       7    9.620\n",
       "916      34   42.940\n",
       "917      20   33.035\n",
       "\n",
       "[918 rows x 2 columns]"
      ]
     },
     "execution_count": 31,
     "metadata": {},
     "output_type": "execute_result"
    }
   ],
   "source": [
    "results = actual_df.merge(preds, how = 'inner', left_index=True, right_index=True)\n",
    "results = results.rename(columns = {'0_x':'Actual', '0_y':'Pred'})\n",
    "results"
   ]
  },
  {
   "cell_type": "code",
   "execution_count": 47,
   "id": "4dbca705",
   "metadata": {},
   "outputs": [
    {
     "data": {
      "text/html": [
       "<div>\n",
       "<style scoped>\n",
       "    .dataframe tbody tr th:only-of-type {\n",
       "        vertical-align: middle;\n",
       "    }\n",
       "\n",
       "    .dataframe tbody tr th {\n",
       "        vertical-align: top;\n",
       "    }\n",
       "\n",
       "    .dataframe thead th {\n",
       "        text-align: right;\n",
       "    }\n",
       "</style>\n",
       "<table border=\"1\" class=\"dataframe\">\n",
       "  <thead>\n",
       "    <tr style=\"text-align: right;\">\n",
       "      <th></th>\n",
       "      <th>Actual</th>\n",
       "      <th>Pred</th>\n",
       "      <th>error</th>\n",
       "      <th>error_pct</th>\n",
       "    </tr>\n",
       "  </thead>\n",
       "  <tbody>\n",
       "    <tr>\n",
       "      <th>0</th>\n",
       "      <td>79</td>\n",
       "      <td>134.310</td>\n",
       "      <td>55.310</td>\n",
       "      <td>170.012658</td>\n",
       "    </tr>\n",
       "    <tr>\n",
       "      <th>1</th>\n",
       "      <td>85</td>\n",
       "      <td>50.430</td>\n",
       "      <td>34.570</td>\n",
       "      <td>59.329412</td>\n",
       "    </tr>\n",
       "    <tr>\n",
       "      <th>2</th>\n",
       "      <td>1</td>\n",
       "      <td>6.095</td>\n",
       "      <td>5.095</td>\n",
       "      <td>609.500000</td>\n",
       "    </tr>\n",
       "    <tr>\n",
       "      <th>3</th>\n",
       "      <td>4</td>\n",
       "      <td>12.625</td>\n",
       "      <td>8.625</td>\n",
       "      <td>315.625000</td>\n",
       "    </tr>\n",
       "    <tr>\n",
       "      <th>4</th>\n",
       "      <td>200</td>\n",
       "      <td>238.705</td>\n",
       "      <td>38.705</td>\n",
       "      <td>119.352500</td>\n",
       "    </tr>\n",
       "    <tr>\n",
       "      <th>...</th>\n",
       "      <td>...</td>\n",
       "      <td>...</td>\n",
       "      <td>...</td>\n",
       "      <td>...</td>\n",
       "    </tr>\n",
       "    <tr>\n",
       "      <th>913</th>\n",
       "      <td>6</td>\n",
       "      <td>19.865</td>\n",
       "      <td>13.865</td>\n",
       "      <td>331.083333</td>\n",
       "    </tr>\n",
       "    <tr>\n",
       "      <th>914</th>\n",
       "      <td>61</td>\n",
       "      <td>45.240</td>\n",
       "      <td>15.760</td>\n",
       "      <td>74.163934</td>\n",
       "    </tr>\n",
       "    <tr>\n",
       "      <th>915</th>\n",
       "      <td>7</td>\n",
       "      <td>9.620</td>\n",
       "      <td>2.620</td>\n",
       "      <td>137.428571</td>\n",
       "    </tr>\n",
       "    <tr>\n",
       "      <th>916</th>\n",
       "      <td>34</td>\n",
       "      <td>42.940</td>\n",
       "      <td>8.940</td>\n",
       "      <td>126.294118</td>\n",
       "    </tr>\n",
       "    <tr>\n",
       "      <th>917</th>\n",
       "      <td>20</td>\n",
       "      <td>33.035</td>\n",
       "      <td>13.035</td>\n",
       "      <td>165.175000</td>\n",
       "    </tr>\n",
       "  </tbody>\n",
       "</table>\n",
       "<p>918 rows × 4 columns</p>\n",
       "</div>"
      ],
      "text/plain": [
       "     Actual     Pred   error   error_pct\n",
       "0        79  134.310  55.310  170.012658\n",
       "1        85   50.430  34.570   59.329412\n",
       "2         1    6.095   5.095  609.500000\n",
       "3         4   12.625   8.625  315.625000\n",
       "4       200  238.705  38.705  119.352500\n",
       "..      ...      ...     ...         ...\n",
       "913       6   19.865  13.865  331.083333\n",
       "914      61   45.240  15.760   74.163934\n",
       "915       7    9.620   2.620  137.428571\n",
       "916      34   42.940   8.940  126.294118\n",
       "917      20   33.035  13.035  165.175000\n",
       "\n",
       "[918 rows x 4 columns]"
      ]
     },
     "execution_count": 47,
     "metadata": {},
     "output_type": "execute_result"
    }
   ],
   "source": [
    "results['error'] = abs(results['Actual']-results['Pred'])\n",
    "results['error_pct'] = results['Pred']/results['Actual']*100\n",
    "results"
   ]
  },
  {
   "cell_type": "code",
   "execution_count": 33,
   "id": "63603c07",
   "metadata": {},
   "outputs": [
    {
     "data": {
      "text/plain": [
       "<matplotlib.collections.PathCollection at 0x7fdc0b4ca850>"
      ]
     },
     "execution_count": 33,
     "metadata": {},
     "output_type": "execute_result"
    },
    {
     "data": {
      "image/png": "[encoded data removed]",
      "text/plain": [
       "<Figure size 432x288 with 1 Axes>"
      ]
     },
     "metadata": {
      "needs_background": "light"
     },
     "output_type": "display_data"
    }
   ],
   "source": [
    "plt.scatter(results.index,results['error'])"
   ]
  },
  {
   "cell_type": "code",
   "execution_count": 41,
   "id": "bc7c5b4d",
   "metadata": {},
   "outputs": [
    {
     "data": {
      "text/plain": [
       "[<matplotlib.lines.Line2D at 0x7fdc10f8f310>]"
      ]
     },
     "execution_count": 41,
     "metadata": {},
     "output_type": "execute_result"
    },
    {
     "data": {
      "image/png": "[encoded data removed]",
      "text/plain": [
       "<Figure size 432x288 with 1 Axes>"
      ]
     },
     "metadata": {
      "needs_background": "light"
     },
     "output_type": "display_data"
    }
   ],
   "source": [
    "plt.plot(results['error_pct'])"
   ]
  },
  {
   "cell_type": "code",
   "execution_count": 34,
   "id": "6767928d",
   "metadata": {},
   "outputs": [
    {
     "data": {
      "text/html": [
       "<div>\n",
       "<style scoped>\n",
       "    .dataframe tbody tr th:only-of-type {\n",
       "        vertical-align: middle;\n",
       "    }\n",
       "\n",
       "    .dataframe tbody tr th {\n",
       "        vertical-align: top;\n",
       "    }\n",
       "\n",
       "    .dataframe thead th {\n",
       "        text-align: right;\n",
       "    }\n",
       "</style>\n",
       "<table border=\"1\" class=\"dataframe\">\n",
       "  <thead>\n",
       "    <tr style=\"text-align: right;\">\n",
       "      <th></th>\n",
       "      <th>Actual</th>\n",
       "      <th>Pred</th>\n",
       "      <th>error</th>\n",
       "    </tr>\n",
       "  </thead>\n",
       "  <tbody>\n",
       "    <tr>\n",
       "      <th>355</th>\n",
       "      <td>9662</td>\n",
       "      <td>6681.01</td>\n",
       "      <td>2980.99</td>\n",
       "    </tr>\n",
       "  </tbody>\n",
       "</table>\n",
       "</div>"
      ],
      "text/plain": [
       "     Actual     Pred    error\n",
       "355    9662  6681.01  2980.99"
      ]
     },
     "execution_count": 34,
     "metadata": {},
     "output_type": "execute_result"
    }
   ],
   "source": [
    "results[results['error']==results['error'].max()]"
   ]
  },
  {
   "cell_type": "code",
   "execution_count": 42,
   "id": "22d7361f",
   "metadata": {},
   "outputs": [
    {
     "data": {
      "text/plain": [
       "count    918.000000\n",
       "mean            inf\n",
       "std             NaN\n",
       "min        0.055233\n",
       "25%       14.504227\n",
       "50%       29.709995\n",
       "75%       59.488158\n",
       "max             inf\n",
       "Name: error_pct, dtype: float64"
      ]
     },
     "execution_count": 42,
     "metadata": {},
     "output_type": "execute_result"
    }
   ],
   "source": [
    "results['error_pct'].describe()"
   ]
  },
  {
   "cell_type": "code",
   "execution_count": 38,
   "id": "ffd342ea",
   "metadata": {},
   "outputs": [
    {
     "data": {
      "text/html": [
       "<div>\n",
       "<style scoped>\n",
       "    .dataframe tbody tr th:only-of-type {\n",
       "        vertical-align: middle;\n",
       "    }\n",
       "\n",
       "    .dataframe tbody tr th {\n",
       "        vertical-align: top;\n",
       "    }\n",
       "\n",
       "    .dataframe thead th {\n",
       "        text-align: right;\n",
       "    }\n",
       "</style>\n",
       "<table border=\"1\" class=\"dataframe\">\n",
       "  <thead>\n",
       "    <tr style=\"text-align: right;\">\n",
       "      <th></th>\n",
       "      <th>AREA_SQMI</th>\n",
       "      <th>E_TOTPOP</th>\n",
       "      <th>E_HU</th>\n",
       "      <th>E_HH</th>\n",
       "      <th>E_POV</th>\n",
       "      <th>E_UNEMP</th>\n",
       "      <th>E_PCI</th>\n",
       "      <th>E_NOHSDP</th>\n",
       "      <th>E_AGE65</th>\n",
       "      <th>E_AGE17</th>\n",
       "      <th>...</th>\n",
       "      <th>Neuroticism</th>\n",
       "      <th>Openness</th>\n",
       "      <th>Religiosity</th>\n",
       "      <th>Risk Taking</th>\n",
       "      <th>Selflessness</th>\n",
       "      <th>Tolerance</th>\n",
       "      <th>Work Ethic</th>\n",
       "      <th>dem_pct</th>\n",
       "      <th>BEDS</th>\n",
       "      <th>first_year_deaths</th>\n",
       "    </tr>\n",
       "    <tr>\n",
       "      <th>FIPS</th>\n",
       "      <th></th>\n",
       "      <th></th>\n",
       "      <th></th>\n",
       "      <th></th>\n",
       "      <th></th>\n",
       "      <th></th>\n",
       "      <th></th>\n",
       "      <th></th>\n",
       "      <th></th>\n",
       "      <th></th>\n",
       "      <th></th>\n",
       "      <th></th>\n",
       "      <th></th>\n",
       "      <th></th>\n",
       "      <th></th>\n",
       "      <th></th>\n",
       "      <th></th>\n",
       "      <th></th>\n",
       "      <th></th>\n",
       "      <th></th>\n",
       "      <th></th>\n",
       "    </tr>\n",
       "  </thead>\n",
       "  <tbody>\n",
       "    <tr>\n",
       "      <th>36047</th>\n",
       "      <td>69.371458</td>\n",
       "      <td>2600747</td>\n",
       "      <td>1035746</td>\n",
       "      <td>950856</td>\n",
       "      <td>544622</td>\n",
       "      <td>91531</td>\n",
       "      <td>31984</td>\n",
       "      <td>326469</td>\n",
       "      <td>343548</td>\n",
       "      <td>599759</td>\n",
       "      <td>...</td>\n",
       "      <td>80.16236</td>\n",
       "      <td>84.371639</td>\n",
       "      <td>61.648984</td>\n",
       "      <td>70.833333</td>\n",
       "      <td>70.473522</td>\n",
       "      <td>79.102853</td>\n",
       "      <td>67.857143</td>\n",
       "      <td>76.415176</td>\n",
       "      <td>5831.0</td>\n",
       "      <td>9662</td>\n",
       "    </tr>\n",
       "  </tbody>\n",
       "</table>\n",
       "<p>1 rows × 43 columns</p>\n",
       "</div>"
      ],
      "text/plain": [
       "       AREA_SQMI  E_TOTPOP     E_HU    E_HH   E_POV  E_UNEMP  E_PCI  E_NOHSDP  \\\n",
       "FIPS                                                                            \n",
       "36047  69.371458   2600747  1035746  950856  544622    91531  31984    326469   \n",
       "\n",
       "       E_AGE65  E_AGE17  ...  Neuroticism   Openness  Religiosity  \\\n",
       "FIPS                     ...                                        \n",
       "36047   343548   599759  ...     80.16236  84.371639    61.648984   \n",
       "\n",
       "       Risk Taking  Selflessness  Tolerance  Work Ethic    dem_pct    BEDS  \\\n",
       "FIPS                                                                         \n",
       "36047    70.833333     70.473522  79.102853   67.857143  76.415176  5831.0   \n",
       "\n",
       "       first_year_deaths  \n",
       "FIPS                      \n",
       "36047               9662  \n",
       "\n",
       "[1 rows x 43 columns]"
      ]
     },
     "execution_count": 38,
     "metadata": {},
     "output_type": "execute_result"
    }
   ],
   "source": [
    "df.loc[df['first_year_deaths']==9662]"
   ]
  },
  {
   "cell_type": "code",
   "execution_count": 39,
   "id": "4ac186ca",
   "metadata": {},
   "outputs": [
    {
     "data": {
      "text/plain": [
       "count    3057.000000\n",
       "mean      166.784429\n",
       "std       532.580273\n",
       "min         0.000000\n",
       "25%        18.000000\n",
       "50%        47.000000\n",
       "75%       110.000000\n",
       "max      9673.000000\n",
       "Name: first_year_deaths, dtype: float64"
      ]
     },
     "execution_count": 39,
     "metadata": {},
     "output_type": "execute_result"
    }
   ],
   "source": [
    "df['first_year_deaths'].describe()"
   ]
  },
  {
   "cell_type": "code",
   "execution_count": null,
   "id": "892dfd51",
   "metadata": {},
   "outputs": [],
   "source": []
  }
 ],
 "metadata": {
  "kernelspec": {
   "display_name": "mlenv",
   "language": "python",
   "name": "mlenv"
  },
  "language_info": {
   "codemirror_mode": {
    "name": "ipython",
    "version": 3
   },
   "file_extension": ".py",
   "mimetype": "text/x-python",
   "name": "python",
   "nbconvert_exporter": "python",
   "pygments_lexer": "ipython3",
   "version": "3.7.13"
  }
 },
 "nbformat": 4,
 "nbformat_minor": 5
}
