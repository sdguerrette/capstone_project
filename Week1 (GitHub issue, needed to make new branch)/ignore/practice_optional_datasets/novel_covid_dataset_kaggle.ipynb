{
 "cells": [
  {
   "cell_type": "code",
   "execution_count": 1,
   "id": "ceb07f53",
   "metadata": {},
   "outputs": [],
   "source": [
    "import numpy as np\n",
    "import pandas as pd \n",
    "import tensorflow as tf\n",
    "import matplotlib.pyplot as plt\n",
    "import seaborn as sn\n",
    "from scipy.interpolate import interp1d\n",
    "import plotly.graph_objects as go\n",
    "\n",
    "from sklearn import preprocessing\n",
    "from sklearn.preprocessing import StandardScaler\n",
    "from imblearn.over_sampling import SMOTE\n",
    "from sklearn.model_selection import train_test_split\n",
    "from sklearn.metrics import accuracy_score\n",
    "from sklearn.metrics import recall_score, confusion_matrix, precision_score, f1_score, classification_report\n",
    "from sklearn.linear_model import LogisticRegression\n",
    "from sklearn.ensemble import RandomForestClassifier\n",
    "from sklearn.ensemble import AdaBoostClassifier\n",
    "from sklearn.ensemble import GradientBoostingClassifier\n",
    "from sklearn.neighbors import KNeighborsClassifier\n",
    "from sklearn.preprocessing import StandardScaler,OneHotEncoder"
   ]
  },
  {
   "cell_type": "code",
   "execution_count": 2,
   "id": "dee79aca",
   "metadata": {},
   "outputs": [
    {
     "data": {
      "text/html": [
       "<div>\n",
       "<style scoped>\n",
       "    .dataframe tbody tr th:only-of-type {\n",
       "        vertical-align: middle;\n",
       "    }\n",
       "\n",
       "    .dataframe tbody tr th {\n",
       "        vertical-align: top;\n",
       "    }\n",
       "\n",
       "    .dataframe thead th {\n",
       "        text-align: right;\n",
       "    }\n",
       "</style>\n",
       "<table border=\"1\" class=\"dataframe\">\n",
       "  <thead>\n",
       "    <tr style=\"text-align: right;\">\n",
       "      <th></th>\n",
       "      <th>Province/State</th>\n",
       "      <th>Country/Region</th>\n",
       "      <th>Lat</th>\n",
       "      <th>Long</th>\n",
       "      <th>1/22/20</th>\n",
       "      <th>1/23/20</th>\n",
       "      <th>1/24/20</th>\n",
       "      <th>1/25/20</th>\n",
       "      <th>1/26/20</th>\n",
       "      <th>1/27/20</th>\n",
       "      <th>...</th>\n",
       "      <th>9/24/21</th>\n",
       "      <th>9/25/21</th>\n",
       "      <th>9/26/21</th>\n",
       "      <th>9/27/21</th>\n",
       "      <th>9/28/21</th>\n",
       "      <th>9/29/21</th>\n",
       "      <th>9/30/21</th>\n",
       "      <th>10/1/21</th>\n",
       "      <th>10/2/21</th>\n",
       "      <th>10/3/21</th>\n",
       "    </tr>\n",
       "  </thead>\n",
       "  <tbody>\n",
       "    <tr>\n",
       "      <th>0</th>\n",
       "      <td>NaN</td>\n",
       "      <td>Afghanistan</td>\n",
       "      <td>33.939110</td>\n",
       "      <td>67.709953</td>\n",
       "      <td>0</td>\n",
       "      <td>0</td>\n",
       "      <td>0</td>\n",
       "      <td>0</td>\n",
       "      <td>0</td>\n",
       "      <td>0</td>\n",
       "      <td>...</td>\n",
       "      <td>154960</td>\n",
       "      <td>154960</td>\n",
       "      <td>154960</td>\n",
       "      <td>155072</td>\n",
       "      <td>155093</td>\n",
       "      <td>155128</td>\n",
       "      <td>155174</td>\n",
       "      <td>155191</td>\n",
       "      <td>155191</td>\n",
       "      <td>155191</td>\n",
       "    </tr>\n",
       "    <tr>\n",
       "      <th>1</th>\n",
       "      <td>NaN</td>\n",
       "      <td>Albania</td>\n",
       "      <td>41.153300</td>\n",
       "      <td>20.168300</td>\n",
       "      <td>0</td>\n",
       "      <td>0</td>\n",
       "      <td>0</td>\n",
       "      <td>0</td>\n",
       "      <td>0</td>\n",
       "      <td>0</td>\n",
       "      <td>...</td>\n",
       "      <td>166690</td>\n",
       "      <td>167354</td>\n",
       "      <td>167893</td>\n",
       "      <td>168188</td>\n",
       "      <td>168782</td>\n",
       "      <td>169462</td>\n",
       "      <td>170131</td>\n",
       "      <td>170778</td>\n",
       "      <td>171327</td>\n",
       "      <td>171794</td>\n",
       "    </tr>\n",
       "    <tr>\n",
       "      <th>2</th>\n",
       "      <td>NaN</td>\n",
       "      <td>Algeria</td>\n",
       "      <td>28.033900</td>\n",
       "      <td>1.659600</td>\n",
       "      <td>0</td>\n",
       "      <td>0</td>\n",
       "      <td>0</td>\n",
       "      <td>0</td>\n",
       "      <td>0</td>\n",
       "      <td>0</td>\n",
       "      <td>...</td>\n",
       "      <td>202449</td>\n",
       "      <td>202574</td>\n",
       "      <td>202722</td>\n",
       "      <td>202877</td>\n",
       "      <td>203045</td>\n",
       "      <td>203198</td>\n",
       "      <td>203359</td>\n",
       "      <td>203517</td>\n",
       "      <td>203657</td>\n",
       "      <td>203789</td>\n",
       "    </tr>\n",
       "    <tr>\n",
       "      <th>3</th>\n",
       "      <td>NaN</td>\n",
       "      <td>Andorra</td>\n",
       "      <td>42.506300</td>\n",
       "      <td>1.521800</td>\n",
       "      <td>0</td>\n",
       "      <td>0</td>\n",
       "      <td>0</td>\n",
       "      <td>0</td>\n",
       "      <td>0</td>\n",
       "      <td>0</td>\n",
       "      <td>...</td>\n",
       "      <td>15167</td>\n",
       "      <td>15167</td>\n",
       "      <td>15167</td>\n",
       "      <td>15189</td>\n",
       "      <td>15192</td>\n",
       "      <td>15209</td>\n",
       "      <td>15222</td>\n",
       "      <td>15222</td>\n",
       "      <td>15222</td>\n",
       "      <td>15222</td>\n",
       "    </tr>\n",
       "    <tr>\n",
       "      <th>4</th>\n",
       "      <td>NaN</td>\n",
       "      <td>Angola</td>\n",
       "      <td>-11.202700</td>\n",
       "      <td>17.873900</td>\n",
       "      <td>0</td>\n",
       "      <td>0</td>\n",
       "      <td>0</td>\n",
       "      <td>0</td>\n",
       "      <td>0</td>\n",
       "      <td>0</td>\n",
       "      <td>...</td>\n",
       "      <td>54280</td>\n",
       "      <td>54795</td>\n",
       "      <td>55121</td>\n",
       "      <td>55583</td>\n",
       "      <td>56040</td>\n",
       "      <td>56583</td>\n",
       "      <td>56583</td>\n",
       "      <td>58076</td>\n",
       "      <td>58603</td>\n",
       "      <td>58943</td>\n",
       "    </tr>\n",
       "    <tr>\n",
       "      <th>...</th>\n",
       "      <td>...</td>\n",
       "      <td>...</td>\n",
       "      <td>...</td>\n",
       "      <td>...</td>\n",
       "      <td>...</td>\n",
       "      <td>...</td>\n",
       "      <td>...</td>\n",
       "      <td>...</td>\n",
       "      <td>...</td>\n",
       "      <td>...</td>\n",
       "      <td>...</td>\n",
       "      <td>...</td>\n",
       "      <td>...</td>\n",
       "      <td>...</td>\n",
       "      <td>...</td>\n",
       "      <td>...</td>\n",
       "      <td>...</td>\n",
       "      <td>...</td>\n",
       "      <td>...</td>\n",
       "      <td>...</td>\n",
       "      <td>...</td>\n",
       "    </tr>\n",
       "    <tr>\n",
       "      <th>274</th>\n",
       "      <td>NaN</td>\n",
       "      <td>Vietnam</td>\n",
       "      <td>14.058324</td>\n",
       "      <td>108.277199</td>\n",
       "      <td>0</td>\n",
       "      <td>2</td>\n",
       "      <td>2</td>\n",
       "      <td>2</td>\n",
       "      <td>2</td>\n",
       "      <td>2</td>\n",
       "      <td>...</td>\n",
       "      <td>736972</td>\n",
       "      <td>746678</td>\n",
       "      <td>756689</td>\n",
       "      <td>766051</td>\n",
       "      <td>770640</td>\n",
       "      <td>779398</td>\n",
       "      <td>790755</td>\n",
       "      <td>797712</td>\n",
       "      <td>803202</td>\n",
       "      <td>808578</td>\n",
       "    </tr>\n",
       "    <tr>\n",
       "      <th>275</th>\n",
       "      <td>NaN</td>\n",
       "      <td>West Bank and Gaza</td>\n",
       "      <td>31.952200</td>\n",
       "      <td>35.233200</td>\n",
       "      <td>0</td>\n",
       "      <td>0</td>\n",
       "      <td>0</td>\n",
       "      <td>0</td>\n",
       "      <td>0</td>\n",
       "      <td>0</td>\n",
       "      <td>...</td>\n",
       "      <td>394683</td>\n",
       "      <td>395677</td>\n",
       "      <td>396746</td>\n",
       "      <td>398946</td>\n",
       "      <td>400649</td>\n",
       "      <td>402255</td>\n",
       "      <td>403716</td>\n",
       "      <td>405056</td>\n",
       "      <td>405780</td>\n",
       "      <td>406652</td>\n",
       "    </tr>\n",
       "    <tr>\n",
       "      <th>276</th>\n",
       "      <td>NaN</td>\n",
       "      <td>Yemen</td>\n",
       "      <td>15.552727</td>\n",
       "      <td>48.516388</td>\n",
       "      <td>0</td>\n",
       "      <td>0</td>\n",
       "      <td>0</td>\n",
       "      <td>0</td>\n",
       "      <td>0</td>\n",
       "      <td>0</td>\n",
       "      <td>...</td>\n",
       "      <td>8861</td>\n",
       "      <td>8891</td>\n",
       "      <td>8934</td>\n",
       "      <td>8988</td>\n",
       "      <td>9016</td>\n",
       "      <td>9039</td>\n",
       "      <td>9067</td>\n",
       "      <td>9111</td>\n",
       "      <td>9139</td>\n",
       "      <td>9139</td>\n",
       "    </tr>\n",
       "    <tr>\n",
       "      <th>277</th>\n",
       "      <td>NaN</td>\n",
       "      <td>Zambia</td>\n",
       "      <td>-13.133897</td>\n",
       "      <td>27.849332</td>\n",
       "      <td>0</td>\n",
       "      <td>0</td>\n",
       "      <td>0</td>\n",
       "      <td>0</td>\n",
       "      <td>0</td>\n",
       "      <td>0</td>\n",
       "      <td>...</td>\n",
       "      <td>208778</td>\n",
       "      <td>208829</td>\n",
       "      <td>208857</td>\n",
       "      <td>208867</td>\n",
       "      <td>208912</td>\n",
       "      <td>209002</td>\n",
       "      <td>209046</td>\n",
       "      <td>209114</td>\n",
       "      <td>209142</td>\n",
       "      <td>209163</td>\n",
       "    </tr>\n",
       "    <tr>\n",
       "      <th>278</th>\n",
       "      <td>NaN</td>\n",
       "      <td>Zimbabwe</td>\n",
       "      <td>-19.015438</td>\n",
       "      <td>29.154857</td>\n",
       "      <td>0</td>\n",
       "      <td>0</td>\n",
       "      <td>0</td>\n",
       "      <td>0</td>\n",
       "      <td>0</td>\n",
       "      <td>0</td>\n",
       "      <td>...</td>\n",
       "      <td>129134</td>\n",
       "      <td>129505</td>\n",
       "      <td>129625</td>\n",
       "      <td>129919</td>\n",
       "      <td>130272</td>\n",
       "      <td>130485</td>\n",
       "      <td>130820</td>\n",
       "      <td>131028</td>\n",
       "      <td>131094</td>\n",
       "      <td>131129</td>\n",
       "    </tr>\n",
       "  </tbody>\n",
       "</table>\n",
       "<p>279 rows × 625 columns</p>\n",
       "</div>"
      ],
      "text/plain": [
       "    Province/State      Country/Region        Lat        Long  1/22/20  \\\n",
       "0              NaN         Afghanistan  33.939110   67.709953        0   \n",
       "1              NaN             Albania  41.153300   20.168300        0   \n",
       "2              NaN             Algeria  28.033900    1.659600        0   \n",
       "3              NaN             Andorra  42.506300    1.521800        0   \n",
       "4              NaN              Angola -11.202700   17.873900        0   \n",
       "..             ...                 ...        ...         ...      ...   \n",
       "274            NaN             Vietnam  14.058324  108.277199        0   \n",
       "275            NaN  West Bank and Gaza  31.952200   35.233200        0   \n",
       "276            NaN               Yemen  15.552727   48.516388        0   \n",
       "277            NaN              Zambia -13.133897   27.849332        0   \n",
       "278            NaN            Zimbabwe -19.015438   29.154857        0   \n",
       "\n",
       "     1/23/20  1/24/20  1/25/20  1/26/20  1/27/20  ...  9/24/21  9/25/21  \\\n",
       "0          0        0        0        0        0  ...   154960   154960   \n",
       "1          0        0        0        0        0  ...   166690   167354   \n",
       "2          0        0        0        0        0  ...   202449   202574   \n",
       "3          0        0        0        0        0  ...    15167    15167   \n",
       "4          0        0        0        0        0  ...    54280    54795   \n",
       "..       ...      ...      ...      ...      ...  ...      ...      ...   \n",
       "274        2        2        2        2        2  ...   736972   746678   \n",
       "275        0        0        0        0        0  ...   394683   395677   \n",
       "276        0        0        0        0        0  ...     8861     8891   \n",
       "277        0        0        0        0        0  ...   208778   208829   \n",
       "278        0        0        0        0        0  ...   129134   129505   \n",
       "\n",
       "     9/26/21  9/27/21  9/28/21  9/29/21  9/30/21  10/1/21  10/2/21  10/3/21  \n",
       "0     154960   155072   155093   155128   155174   155191   155191   155191  \n",
       "1     167893   168188   168782   169462   170131   170778   171327   171794  \n",
       "2     202722   202877   203045   203198   203359   203517   203657   203789  \n",
       "3      15167    15189    15192    15209    15222    15222    15222    15222  \n",
       "4      55121    55583    56040    56583    56583    58076    58603    58943  \n",
       "..       ...      ...      ...      ...      ...      ...      ...      ...  \n",
       "274   756689   766051   770640   779398   790755   797712   803202   808578  \n",
       "275   396746   398946   400649   402255   403716   405056   405780   406652  \n",
       "276     8934     8988     9016     9039     9067     9111     9139     9139  \n",
       "277   208857   208867   208912   209002   209046   209114   209142   209163  \n",
       "278   129625   129919   130272   130485   130820   131028   131094   131129  \n",
       "\n",
       "[279 rows x 625 columns]"
      ]
     },
     "execution_count": 2,
     "metadata": {},
     "output_type": "execute_result"
    }
   ],
   "source": [
    "wrld_timeseries_df = pd.read_csv('../optional_datasets/Novel_Corona_Virus_Dataset_Kaggle/csse_covid_19_data/csse_covid_19_time_series/time_series_covid19_confirmed_global.csv')\n",
    "wrld_timeseries_df"
   ]
  },
  {
   "cell_type": "code",
   "execution_count": 3,
   "id": "1a10b7e2",
   "metadata": {},
   "outputs": [
    {
     "data": {
      "text/plain": [
       "Index(['Province/State', 'Country/Region', 'Lat', 'Long', '1/22/20', '1/23/20',\n",
       "       '1/24/20', '1/25/20', '1/26/20', '1/27/20',\n",
       "       ...\n",
       "       '9/24/21', '9/25/21', '9/26/21', '9/27/21', '9/28/21', '9/29/21',\n",
       "       '9/30/21', '10/1/21', '10/2/21', '10/3/21'],\n",
       "      dtype='object', length=625)"
      ]
     },
     "execution_count": 3,
     "metadata": {},
     "output_type": "execute_result"
    }
   ],
   "source": [
    "wrld_timeseries_df.columns"
   ]
  },
  {
   "cell_type": "code",
   "execution_count": 4,
   "id": "e0e977aa",
   "metadata": {},
   "outputs": [
    {
     "data": {
      "text/plain": [
       "Province/State    192\n",
       "Country/Region      0\n",
       "Lat                 2\n",
       "Long                2\n",
       "1/22/20             0\n",
       "                 ... \n",
       "9/29/21             0\n",
       "9/30/21             0\n",
       "10/1/21             0\n",
       "10/2/21             0\n",
       "10/3/21             0\n",
       "Length: 625, dtype: int64"
      ]
     },
     "execution_count": 4,
     "metadata": {},
     "output_type": "execute_result"
    }
   ],
   "source": [
    "wrld_timeseries_df.isna().sum()"
   ]
  },
  {
   "cell_type": "code",
   "execution_count": 5,
   "id": "61bb9e2a",
   "metadata": {},
   "outputs": [
    {
     "data": {
      "text/html": [
       "<div>\n",
       "<style scoped>\n",
       "    .dataframe tbody tr th:only-of-type {\n",
       "        vertical-align: middle;\n",
       "    }\n",
       "\n",
       "    .dataframe tbody tr th {\n",
       "        vertical-align: top;\n",
       "    }\n",
       "\n",
       "    .dataframe thead th {\n",
       "        text-align: right;\n",
       "    }\n",
       "</style>\n",
       "<table border=\"1\" class=\"dataframe\">\n",
       "  <thead>\n",
       "    <tr style=\"text-align: right;\">\n",
       "      <th></th>\n",
       "      <th>Country/Region</th>\n",
       "      <th>Lat</th>\n",
       "      <th>Long</th>\n",
       "      <th>1/22/20</th>\n",
       "      <th>1/23/20</th>\n",
       "      <th>1/24/20</th>\n",
       "      <th>1/25/20</th>\n",
       "      <th>1/26/20</th>\n",
       "      <th>1/27/20</th>\n",
       "      <th>1/28/20</th>\n",
       "      <th>...</th>\n",
       "      <th>9/24/21</th>\n",
       "      <th>9/25/21</th>\n",
       "      <th>9/26/21</th>\n",
       "      <th>9/27/21</th>\n",
       "      <th>9/28/21</th>\n",
       "      <th>9/29/21</th>\n",
       "      <th>9/30/21</th>\n",
       "      <th>10/1/21</th>\n",
       "      <th>10/2/21</th>\n",
       "      <th>10/3/21</th>\n",
       "    </tr>\n",
       "  </thead>\n",
       "  <tbody>\n",
       "    <tr>\n",
       "      <th>0</th>\n",
       "      <td>Afghanistan</td>\n",
       "      <td>33.939110</td>\n",
       "      <td>67.709953</td>\n",
       "      <td>0</td>\n",
       "      <td>0</td>\n",
       "      <td>0</td>\n",
       "      <td>0</td>\n",
       "      <td>0</td>\n",
       "      <td>0</td>\n",
       "      <td>0</td>\n",
       "      <td>...</td>\n",
       "      <td>154960</td>\n",
       "      <td>154960</td>\n",
       "      <td>154960</td>\n",
       "      <td>155072</td>\n",
       "      <td>155093</td>\n",
       "      <td>155128</td>\n",
       "      <td>155174</td>\n",
       "      <td>155191</td>\n",
       "      <td>155191</td>\n",
       "      <td>155191</td>\n",
       "    </tr>\n",
       "    <tr>\n",
       "      <th>1</th>\n",
       "      <td>Albania</td>\n",
       "      <td>41.153300</td>\n",
       "      <td>20.168300</td>\n",
       "      <td>0</td>\n",
       "      <td>0</td>\n",
       "      <td>0</td>\n",
       "      <td>0</td>\n",
       "      <td>0</td>\n",
       "      <td>0</td>\n",
       "      <td>0</td>\n",
       "      <td>...</td>\n",
       "      <td>166690</td>\n",
       "      <td>167354</td>\n",
       "      <td>167893</td>\n",
       "      <td>168188</td>\n",
       "      <td>168782</td>\n",
       "      <td>169462</td>\n",
       "      <td>170131</td>\n",
       "      <td>170778</td>\n",
       "      <td>171327</td>\n",
       "      <td>171794</td>\n",
       "    </tr>\n",
       "    <tr>\n",
       "      <th>2</th>\n",
       "      <td>Algeria</td>\n",
       "      <td>28.033900</td>\n",
       "      <td>1.659600</td>\n",
       "      <td>0</td>\n",
       "      <td>0</td>\n",
       "      <td>0</td>\n",
       "      <td>0</td>\n",
       "      <td>0</td>\n",
       "      <td>0</td>\n",
       "      <td>0</td>\n",
       "      <td>...</td>\n",
       "      <td>202449</td>\n",
       "      <td>202574</td>\n",
       "      <td>202722</td>\n",
       "      <td>202877</td>\n",
       "      <td>203045</td>\n",
       "      <td>203198</td>\n",
       "      <td>203359</td>\n",
       "      <td>203517</td>\n",
       "      <td>203657</td>\n",
       "      <td>203789</td>\n",
       "    </tr>\n",
       "    <tr>\n",
       "      <th>3</th>\n",
       "      <td>Andorra</td>\n",
       "      <td>42.506300</td>\n",
       "      <td>1.521800</td>\n",
       "      <td>0</td>\n",
       "      <td>0</td>\n",
       "      <td>0</td>\n",
       "      <td>0</td>\n",
       "      <td>0</td>\n",
       "      <td>0</td>\n",
       "      <td>0</td>\n",
       "      <td>...</td>\n",
       "      <td>15167</td>\n",
       "      <td>15167</td>\n",
       "      <td>15167</td>\n",
       "      <td>15189</td>\n",
       "      <td>15192</td>\n",
       "      <td>15209</td>\n",
       "      <td>15222</td>\n",
       "      <td>15222</td>\n",
       "      <td>15222</td>\n",
       "      <td>15222</td>\n",
       "    </tr>\n",
       "    <tr>\n",
       "      <th>4</th>\n",
       "      <td>Angola</td>\n",
       "      <td>-11.202700</td>\n",
       "      <td>17.873900</td>\n",
       "      <td>0</td>\n",
       "      <td>0</td>\n",
       "      <td>0</td>\n",
       "      <td>0</td>\n",
       "      <td>0</td>\n",
       "      <td>0</td>\n",
       "      <td>0</td>\n",
       "      <td>...</td>\n",
       "      <td>54280</td>\n",
       "      <td>54795</td>\n",
       "      <td>55121</td>\n",
       "      <td>55583</td>\n",
       "      <td>56040</td>\n",
       "      <td>56583</td>\n",
       "      <td>56583</td>\n",
       "      <td>58076</td>\n",
       "      <td>58603</td>\n",
       "      <td>58943</td>\n",
       "    </tr>\n",
       "    <tr>\n",
       "      <th>...</th>\n",
       "      <td>...</td>\n",
       "      <td>...</td>\n",
       "      <td>...</td>\n",
       "      <td>...</td>\n",
       "      <td>...</td>\n",
       "      <td>...</td>\n",
       "      <td>...</td>\n",
       "      <td>...</td>\n",
       "      <td>...</td>\n",
       "      <td>...</td>\n",
       "      <td>...</td>\n",
       "      <td>...</td>\n",
       "      <td>...</td>\n",
       "      <td>...</td>\n",
       "      <td>...</td>\n",
       "      <td>...</td>\n",
       "      <td>...</td>\n",
       "      <td>...</td>\n",
       "      <td>...</td>\n",
       "      <td>...</td>\n",
       "      <td>...</td>\n",
       "    </tr>\n",
       "    <tr>\n",
       "      <th>274</th>\n",
       "      <td>Vietnam</td>\n",
       "      <td>14.058324</td>\n",
       "      <td>108.277199</td>\n",
       "      <td>0</td>\n",
       "      <td>2</td>\n",
       "      <td>2</td>\n",
       "      <td>2</td>\n",
       "      <td>2</td>\n",
       "      <td>2</td>\n",
       "      <td>2</td>\n",
       "      <td>...</td>\n",
       "      <td>736972</td>\n",
       "      <td>746678</td>\n",
       "      <td>756689</td>\n",
       "      <td>766051</td>\n",
       "      <td>770640</td>\n",
       "      <td>779398</td>\n",
       "      <td>790755</td>\n",
       "      <td>797712</td>\n",
       "      <td>803202</td>\n",
       "      <td>808578</td>\n",
       "    </tr>\n",
       "    <tr>\n",
       "      <th>275</th>\n",
       "      <td>West Bank and Gaza</td>\n",
       "      <td>31.952200</td>\n",
       "      <td>35.233200</td>\n",
       "      <td>0</td>\n",
       "      <td>0</td>\n",
       "      <td>0</td>\n",
       "      <td>0</td>\n",
       "      <td>0</td>\n",
       "      <td>0</td>\n",
       "      <td>0</td>\n",
       "      <td>...</td>\n",
       "      <td>394683</td>\n",
       "      <td>395677</td>\n",
       "      <td>396746</td>\n",
       "      <td>398946</td>\n",
       "      <td>400649</td>\n",
       "      <td>402255</td>\n",
       "      <td>403716</td>\n",
       "      <td>405056</td>\n",
       "      <td>405780</td>\n",
       "      <td>406652</td>\n",
       "    </tr>\n",
       "    <tr>\n",
       "      <th>276</th>\n",
       "      <td>Yemen</td>\n",
       "      <td>15.552727</td>\n",
       "      <td>48.516388</td>\n",
       "      <td>0</td>\n",
       "      <td>0</td>\n",
       "      <td>0</td>\n",
       "      <td>0</td>\n",
       "      <td>0</td>\n",
       "      <td>0</td>\n",
       "      <td>0</td>\n",
       "      <td>...</td>\n",
       "      <td>8861</td>\n",
       "      <td>8891</td>\n",
       "      <td>8934</td>\n",
       "      <td>8988</td>\n",
       "      <td>9016</td>\n",
       "      <td>9039</td>\n",
       "      <td>9067</td>\n",
       "      <td>9111</td>\n",
       "      <td>9139</td>\n",
       "      <td>9139</td>\n",
       "    </tr>\n",
       "    <tr>\n",
       "      <th>277</th>\n",
       "      <td>Zambia</td>\n",
       "      <td>-13.133897</td>\n",
       "      <td>27.849332</td>\n",
       "      <td>0</td>\n",
       "      <td>0</td>\n",
       "      <td>0</td>\n",
       "      <td>0</td>\n",
       "      <td>0</td>\n",
       "      <td>0</td>\n",
       "      <td>0</td>\n",
       "      <td>...</td>\n",
       "      <td>208778</td>\n",
       "      <td>208829</td>\n",
       "      <td>208857</td>\n",
       "      <td>208867</td>\n",
       "      <td>208912</td>\n",
       "      <td>209002</td>\n",
       "      <td>209046</td>\n",
       "      <td>209114</td>\n",
       "      <td>209142</td>\n",
       "      <td>209163</td>\n",
       "    </tr>\n",
       "    <tr>\n",
       "      <th>278</th>\n",
       "      <td>Zimbabwe</td>\n",
       "      <td>-19.015438</td>\n",
       "      <td>29.154857</td>\n",
       "      <td>0</td>\n",
       "      <td>0</td>\n",
       "      <td>0</td>\n",
       "      <td>0</td>\n",
       "      <td>0</td>\n",
       "      <td>0</td>\n",
       "      <td>0</td>\n",
       "      <td>...</td>\n",
       "      <td>129134</td>\n",
       "      <td>129505</td>\n",
       "      <td>129625</td>\n",
       "      <td>129919</td>\n",
       "      <td>130272</td>\n",
       "      <td>130485</td>\n",
       "      <td>130820</td>\n",
       "      <td>131028</td>\n",
       "      <td>131094</td>\n",
       "      <td>131129</td>\n",
       "    </tr>\n",
       "  </tbody>\n",
       "</table>\n",
       "<p>279 rows × 624 columns</p>\n",
       "</div>"
      ],
      "text/plain": [
       "         Country/Region        Lat        Long  1/22/20  1/23/20  1/24/20  \\\n",
       "0           Afghanistan  33.939110   67.709953        0        0        0   \n",
       "1               Albania  41.153300   20.168300        0        0        0   \n",
       "2               Algeria  28.033900    1.659600        0        0        0   \n",
       "3               Andorra  42.506300    1.521800        0        0        0   \n",
       "4                Angola -11.202700   17.873900        0        0        0   \n",
       "..                  ...        ...         ...      ...      ...      ...   \n",
       "274             Vietnam  14.058324  108.277199        0        2        2   \n",
       "275  West Bank and Gaza  31.952200   35.233200        0        0        0   \n",
       "276               Yemen  15.552727   48.516388        0        0        0   \n",
       "277              Zambia -13.133897   27.849332        0        0        0   \n",
       "278            Zimbabwe -19.015438   29.154857        0        0        0   \n",
       "\n",
       "     1/25/20  1/26/20  1/27/20  1/28/20  ...  9/24/21  9/25/21  9/26/21  \\\n",
       "0          0        0        0        0  ...   154960   154960   154960   \n",
       "1          0        0        0        0  ...   166690   167354   167893   \n",
       "2          0        0        0        0  ...   202449   202574   202722   \n",
       "3          0        0        0        0  ...    15167    15167    15167   \n",
       "4          0        0        0        0  ...    54280    54795    55121   \n",
       "..       ...      ...      ...      ...  ...      ...      ...      ...   \n",
       "274        2        2        2        2  ...   736972   746678   756689   \n",
       "275        0        0        0        0  ...   394683   395677   396746   \n",
       "276        0        0        0        0  ...     8861     8891     8934   \n",
       "277        0        0        0        0  ...   208778   208829   208857   \n",
       "278        0        0        0        0  ...   129134   129505   129625   \n",
       "\n",
       "     9/27/21  9/28/21  9/29/21  9/30/21  10/1/21  10/2/21  10/3/21  \n",
       "0     155072   155093   155128   155174   155191   155191   155191  \n",
       "1     168188   168782   169462   170131   170778   171327   171794  \n",
       "2     202877   203045   203198   203359   203517   203657   203789  \n",
       "3      15189    15192    15209    15222    15222    15222    15222  \n",
       "4      55583    56040    56583    56583    58076    58603    58943  \n",
       "..       ...      ...      ...      ...      ...      ...      ...  \n",
       "274   766051   770640   779398   790755   797712   803202   808578  \n",
       "275   398946   400649   402255   403716   405056   405780   406652  \n",
       "276     8988     9016     9039     9067     9111     9139     9139  \n",
       "277   208867   208912   209002   209046   209114   209142   209163  \n",
       "278   129919   130272   130485   130820   131028   131094   131129  \n",
       "\n",
       "[279 rows x 624 columns]"
      ]
     },
     "execution_count": 5,
     "metadata": {},
     "output_type": "execute_result"
    }
   ],
   "source": [
    "#make new df and drop province/state and focus on country\n",
    "country_timeseries= wrld_timeseries_df.drop(columns=[\"Province/State\"])\n",
    "country_timeseries"
   ]
  },
  {
   "cell_type": "code",
   "execution_count": 6,
   "id": "5ca44407",
   "metadata": {},
   "outputs": [
    {
     "data": {
      "text/plain": [
       "Country/Region    0\n",
       "Lat               2\n",
       "Long              2\n",
       "1/22/20           0\n",
       "1/23/20           0\n",
       "                 ..\n",
       "9/29/21           0\n",
       "9/30/21           0\n",
       "10/1/21           0\n",
       "10/2/21           0\n",
       "10/3/21           0\n",
       "Length: 624, dtype: int64"
      ]
     },
     "execution_count": 6,
     "metadata": {},
     "output_type": "execute_result"
    }
   ],
   "source": [
    "country_timeseries.isna().sum()"
   ]
  },
  {
   "cell_type": "code",
   "execution_count": 7,
   "id": "2a6db2cc",
   "metadata": {},
   "outputs": [
    {
     "data": {
      "text/html": [
       "<div>\n",
       "<style scoped>\n",
       "    .dataframe tbody tr th:only-of-type {\n",
       "        vertical-align: middle;\n",
       "    }\n",
       "\n",
       "    .dataframe tbody tr th {\n",
       "        vertical-align: top;\n",
       "    }\n",
       "\n",
       "    .dataframe thead th {\n",
       "        text-align: right;\n",
       "    }\n",
       "</style>\n",
       "<table border=\"1\" class=\"dataframe\">\n",
       "  <thead>\n",
       "    <tr style=\"text-align: right;\">\n",
       "      <th></th>\n",
       "      <th>Country/Region</th>\n",
       "      <th>Lat</th>\n",
       "      <th>Long</th>\n",
       "      <th>1/22/20</th>\n",
       "      <th>1/23/20</th>\n",
       "      <th>1/24/20</th>\n",
       "      <th>1/25/20</th>\n",
       "      <th>1/26/20</th>\n",
       "      <th>1/27/20</th>\n",
       "      <th>1/28/20</th>\n",
       "      <th>...</th>\n",
       "      <th>9/24/21</th>\n",
       "      <th>9/25/21</th>\n",
       "      <th>9/26/21</th>\n",
       "      <th>9/27/21</th>\n",
       "      <th>9/28/21</th>\n",
       "      <th>9/29/21</th>\n",
       "      <th>9/30/21</th>\n",
       "      <th>10/1/21</th>\n",
       "      <th>10/2/21</th>\n",
       "      <th>10/3/21</th>\n",
       "    </tr>\n",
       "  </thead>\n",
       "  <tbody>\n",
       "    <tr>\n",
       "      <th>0</th>\n",
       "      <td>Afghanistan</td>\n",
       "      <td>33.939110</td>\n",
       "      <td>67.709953</td>\n",
       "      <td>0</td>\n",
       "      <td>0</td>\n",
       "      <td>0</td>\n",
       "      <td>0</td>\n",
       "      <td>0</td>\n",
       "      <td>0</td>\n",
       "      <td>0</td>\n",
       "      <td>...</td>\n",
       "      <td>154960</td>\n",
       "      <td>154960</td>\n",
       "      <td>154960</td>\n",
       "      <td>155072</td>\n",
       "      <td>155093</td>\n",
       "      <td>155128</td>\n",
       "      <td>155174</td>\n",
       "      <td>155191</td>\n",
       "      <td>155191</td>\n",
       "      <td>155191</td>\n",
       "    </tr>\n",
       "    <tr>\n",
       "      <th>1</th>\n",
       "      <td>Albania</td>\n",
       "      <td>41.153300</td>\n",
       "      <td>20.168300</td>\n",
       "      <td>0</td>\n",
       "      <td>0</td>\n",
       "      <td>0</td>\n",
       "      <td>0</td>\n",
       "      <td>0</td>\n",
       "      <td>0</td>\n",
       "      <td>0</td>\n",
       "      <td>...</td>\n",
       "      <td>166690</td>\n",
       "      <td>167354</td>\n",
       "      <td>167893</td>\n",
       "      <td>168188</td>\n",
       "      <td>168782</td>\n",
       "      <td>169462</td>\n",
       "      <td>170131</td>\n",
       "      <td>170778</td>\n",
       "      <td>171327</td>\n",
       "      <td>171794</td>\n",
       "    </tr>\n",
       "    <tr>\n",
       "      <th>2</th>\n",
       "      <td>Algeria</td>\n",
       "      <td>28.033900</td>\n",
       "      <td>1.659600</td>\n",
       "      <td>0</td>\n",
       "      <td>0</td>\n",
       "      <td>0</td>\n",
       "      <td>0</td>\n",
       "      <td>0</td>\n",
       "      <td>0</td>\n",
       "      <td>0</td>\n",
       "      <td>...</td>\n",
       "      <td>202449</td>\n",
       "      <td>202574</td>\n",
       "      <td>202722</td>\n",
       "      <td>202877</td>\n",
       "      <td>203045</td>\n",
       "      <td>203198</td>\n",
       "      <td>203359</td>\n",
       "      <td>203517</td>\n",
       "      <td>203657</td>\n",
       "      <td>203789</td>\n",
       "    </tr>\n",
       "    <tr>\n",
       "      <th>3</th>\n",
       "      <td>Andorra</td>\n",
       "      <td>42.506300</td>\n",
       "      <td>1.521800</td>\n",
       "      <td>0</td>\n",
       "      <td>0</td>\n",
       "      <td>0</td>\n",
       "      <td>0</td>\n",
       "      <td>0</td>\n",
       "      <td>0</td>\n",
       "      <td>0</td>\n",
       "      <td>...</td>\n",
       "      <td>15167</td>\n",
       "      <td>15167</td>\n",
       "      <td>15167</td>\n",
       "      <td>15189</td>\n",
       "      <td>15192</td>\n",
       "      <td>15209</td>\n",
       "      <td>15222</td>\n",
       "      <td>15222</td>\n",
       "      <td>15222</td>\n",
       "      <td>15222</td>\n",
       "    </tr>\n",
       "    <tr>\n",
       "      <th>4</th>\n",
       "      <td>Angola</td>\n",
       "      <td>-11.202700</td>\n",
       "      <td>17.873900</td>\n",
       "      <td>0</td>\n",
       "      <td>0</td>\n",
       "      <td>0</td>\n",
       "      <td>0</td>\n",
       "      <td>0</td>\n",
       "      <td>0</td>\n",
       "      <td>0</td>\n",
       "      <td>...</td>\n",
       "      <td>54280</td>\n",
       "      <td>54795</td>\n",
       "      <td>55121</td>\n",
       "      <td>55583</td>\n",
       "      <td>56040</td>\n",
       "      <td>56583</td>\n",
       "      <td>56583</td>\n",
       "      <td>58076</td>\n",
       "      <td>58603</td>\n",
       "      <td>58943</td>\n",
       "    </tr>\n",
       "    <tr>\n",
       "      <th>...</th>\n",
       "      <td>...</td>\n",
       "      <td>...</td>\n",
       "      <td>...</td>\n",
       "      <td>...</td>\n",
       "      <td>...</td>\n",
       "      <td>...</td>\n",
       "      <td>...</td>\n",
       "      <td>...</td>\n",
       "      <td>...</td>\n",
       "      <td>...</td>\n",
       "      <td>...</td>\n",
       "      <td>...</td>\n",
       "      <td>...</td>\n",
       "      <td>...</td>\n",
       "      <td>...</td>\n",
       "      <td>...</td>\n",
       "      <td>...</td>\n",
       "      <td>...</td>\n",
       "      <td>...</td>\n",
       "      <td>...</td>\n",
       "      <td>...</td>\n",
       "    </tr>\n",
       "    <tr>\n",
       "      <th>274</th>\n",
       "      <td>Vietnam</td>\n",
       "      <td>14.058324</td>\n",
       "      <td>108.277199</td>\n",
       "      <td>0</td>\n",
       "      <td>2</td>\n",
       "      <td>2</td>\n",
       "      <td>2</td>\n",
       "      <td>2</td>\n",
       "      <td>2</td>\n",
       "      <td>2</td>\n",
       "      <td>...</td>\n",
       "      <td>736972</td>\n",
       "      <td>746678</td>\n",
       "      <td>756689</td>\n",
       "      <td>766051</td>\n",
       "      <td>770640</td>\n",
       "      <td>779398</td>\n",
       "      <td>790755</td>\n",
       "      <td>797712</td>\n",
       "      <td>803202</td>\n",
       "      <td>808578</td>\n",
       "    </tr>\n",
       "    <tr>\n",
       "      <th>275</th>\n",
       "      <td>West Bank and Gaza</td>\n",
       "      <td>31.952200</td>\n",
       "      <td>35.233200</td>\n",
       "      <td>0</td>\n",
       "      <td>0</td>\n",
       "      <td>0</td>\n",
       "      <td>0</td>\n",
       "      <td>0</td>\n",
       "      <td>0</td>\n",
       "      <td>0</td>\n",
       "      <td>...</td>\n",
       "      <td>394683</td>\n",
       "      <td>395677</td>\n",
       "      <td>396746</td>\n",
       "      <td>398946</td>\n",
       "      <td>400649</td>\n",
       "      <td>402255</td>\n",
       "      <td>403716</td>\n",
       "      <td>405056</td>\n",
       "      <td>405780</td>\n",
       "      <td>406652</td>\n",
       "    </tr>\n",
       "    <tr>\n",
       "      <th>276</th>\n",
       "      <td>Yemen</td>\n",
       "      <td>15.552727</td>\n",
       "      <td>48.516388</td>\n",
       "      <td>0</td>\n",
       "      <td>0</td>\n",
       "      <td>0</td>\n",
       "      <td>0</td>\n",
       "      <td>0</td>\n",
       "      <td>0</td>\n",
       "      <td>0</td>\n",
       "      <td>...</td>\n",
       "      <td>8861</td>\n",
       "      <td>8891</td>\n",
       "      <td>8934</td>\n",
       "      <td>8988</td>\n",
       "      <td>9016</td>\n",
       "      <td>9039</td>\n",
       "      <td>9067</td>\n",
       "      <td>9111</td>\n",
       "      <td>9139</td>\n",
       "      <td>9139</td>\n",
       "    </tr>\n",
       "    <tr>\n",
       "      <th>277</th>\n",
       "      <td>Zambia</td>\n",
       "      <td>-13.133897</td>\n",
       "      <td>27.849332</td>\n",
       "      <td>0</td>\n",
       "      <td>0</td>\n",
       "      <td>0</td>\n",
       "      <td>0</td>\n",
       "      <td>0</td>\n",
       "      <td>0</td>\n",
       "      <td>0</td>\n",
       "      <td>...</td>\n",
       "      <td>208778</td>\n",
       "      <td>208829</td>\n",
       "      <td>208857</td>\n",
       "      <td>208867</td>\n",
       "      <td>208912</td>\n",
       "      <td>209002</td>\n",
       "      <td>209046</td>\n",
       "      <td>209114</td>\n",
       "      <td>209142</td>\n",
       "      <td>209163</td>\n",
       "    </tr>\n",
       "    <tr>\n",
       "      <th>278</th>\n",
       "      <td>Zimbabwe</td>\n",
       "      <td>-19.015438</td>\n",
       "      <td>29.154857</td>\n",
       "      <td>0</td>\n",
       "      <td>0</td>\n",
       "      <td>0</td>\n",
       "      <td>0</td>\n",
       "      <td>0</td>\n",
       "      <td>0</td>\n",
       "      <td>0</td>\n",
       "      <td>...</td>\n",
       "      <td>129134</td>\n",
       "      <td>129505</td>\n",
       "      <td>129625</td>\n",
       "      <td>129919</td>\n",
       "      <td>130272</td>\n",
       "      <td>130485</td>\n",
       "      <td>130820</td>\n",
       "      <td>131028</td>\n",
       "      <td>131094</td>\n",
       "      <td>131129</td>\n",
       "    </tr>\n",
       "  </tbody>\n",
       "</table>\n",
       "<p>277 rows × 624 columns</p>\n",
       "</div>"
      ],
      "text/plain": [
       "         Country/Region        Lat        Long  1/22/20  1/23/20  1/24/20  \\\n",
       "0           Afghanistan  33.939110   67.709953        0        0        0   \n",
       "1               Albania  41.153300   20.168300        0        0        0   \n",
       "2               Algeria  28.033900    1.659600        0        0        0   \n",
       "3               Andorra  42.506300    1.521800        0        0        0   \n",
       "4                Angola -11.202700   17.873900        0        0        0   \n",
       "..                  ...        ...         ...      ...      ...      ...   \n",
       "274             Vietnam  14.058324  108.277199        0        2        2   \n",
       "275  West Bank and Gaza  31.952200   35.233200        0        0        0   \n",
       "276               Yemen  15.552727   48.516388        0        0        0   \n",
       "277              Zambia -13.133897   27.849332        0        0        0   \n",
       "278            Zimbabwe -19.015438   29.154857        0        0        0   \n",
       "\n",
       "     1/25/20  1/26/20  1/27/20  1/28/20  ...  9/24/21  9/25/21  9/26/21  \\\n",
       "0          0        0        0        0  ...   154960   154960   154960   \n",
       "1          0        0        0        0  ...   166690   167354   167893   \n",
       "2          0        0        0        0  ...   202449   202574   202722   \n",
       "3          0        0        0        0  ...    15167    15167    15167   \n",
       "4          0        0        0        0  ...    54280    54795    55121   \n",
       "..       ...      ...      ...      ...  ...      ...      ...      ...   \n",
       "274        2        2        2        2  ...   736972   746678   756689   \n",
       "275        0        0        0        0  ...   394683   395677   396746   \n",
       "276        0        0        0        0  ...     8861     8891     8934   \n",
       "277        0        0        0        0  ...   208778   208829   208857   \n",
       "278        0        0        0        0  ...   129134   129505   129625   \n",
       "\n",
       "     9/27/21  9/28/21  9/29/21  9/30/21  10/1/21  10/2/21  10/3/21  \n",
       "0     155072   155093   155128   155174   155191   155191   155191  \n",
       "1     168188   168782   169462   170131   170778   171327   171794  \n",
       "2     202877   203045   203198   203359   203517   203657   203789  \n",
       "3      15189    15192    15209    15222    15222    15222    15222  \n",
       "4      55583    56040    56583    56583    58076    58603    58943  \n",
       "..       ...      ...      ...      ...      ...      ...      ...  \n",
       "274   766051   770640   779398   790755   797712   803202   808578  \n",
       "275   398946   400649   402255   403716   405056   405780   406652  \n",
       "276     8988     9016     9039     9067     9111     9139     9139  \n",
       "277   208867   208912   209002   209046   209114   209142   209163  \n",
       "278   129919   130272   130485   130820   131028   131094   131129  \n",
       "\n",
       "[277 rows x 624 columns]"
      ]
     },
     "execution_count": 7,
     "metadata": {},
     "output_type": "execute_result"
    }
   ],
   "source": [
    "country_timeseries.dropna(how='any', axis=0, inplace=True)\n",
    "country_timeseries"
   ]
  },
  {
   "cell_type": "code",
   "execution_count": 8,
   "id": "fa2e88e3",
   "metadata": {},
   "outputs": [
    {
     "data": {
      "text/plain": [
       "Country/Region    0\n",
       "Lat               0\n",
       "Long              0\n",
       "1/22/20           0\n",
       "1/23/20           0\n",
       "                 ..\n",
       "9/29/21           0\n",
       "9/30/21           0\n",
       "10/1/21           0\n",
       "10/2/21           0\n",
       "10/3/21           0\n",
       "Length: 624, dtype: int64"
      ]
     },
     "execution_count": 8,
     "metadata": {},
     "output_type": "execute_result"
    }
   ],
   "source": [
    "#double check null values\n",
    "country_timeseries.isna().sum()"
   ]
  },
  {
   "cell_type": "code",
   "execution_count": 9,
   "id": "cec002ab",
   "metadata": {},
   "outputs": [
    {
     "data": {
      "text/plain": [
       "0"
      ]
     },
     "execution_count": 9,
     "metadata": {},
     "output_type": "execute_result"
    }
   ],
   "source": [
    "#look for duplicated values\n",
    "country_timeseries.duplicated().sum()"
   ]
  },
  {
   "cell_type": "code",
   "execution_count": 10,
   "id": "b6417b8b",
   "metadata": {},
   "outputs": [
    {
     "data": {
      "text/html": [
       "<div>\n",
       "<style scoped>\n",
       "    .dataframe tbody tr th:only-of-type {\n",
       "        vertical-align: middle;\n",
       "    }\n",
       "\n",
       "    .dataframe tbody tr th {\n",
       "        vertical-align: top;\n",
       "    }\n",
       "\n",
       "    .dataframe thead th {\n",
       "        text-align: right;\n",
       "    }\n",
       "</style>\n",
       "<table border=\"1\" class=\"dataframe\">\n",
       "  <thead>\n",
       "    <tr style=\"text-align: right;\">\n",
       "      <th></th>\n",
       "      <th>Lat</th>\n",
       "      <th>Long</th>\n",
       "      <th>1/22/20</th>\n",
       "      <th>1/23/20</th>\n",
       "      <th>1/24/20</th>\n",
       "      <th>1/25/20</th>\n",
       "      <th>1/26/20</th>\n",
       "      <th>1/27/20</th>\n",
       "      <th>1/28/20</th>\n",
       "      <th>1/29/20</th>\n",
       "      <th>...</th>\n",
       "      <th>9/24/21</th>\n",
       "      <th>9/25/21</th>\n",
       "      <th>9/26/21</th>\n",
       "      <th>9/27/21</th>\n",
       "      <th>9/28/21</th>\n",
       "      <th>9/29/21</th>\n",
       "      <th>9/30/21</th>\n",
       "      <th>10/1/21</th>\n",
       "      <th>10/2/21</th>\n",
       "      <th>10/3/21</th>\n",
       "    </tr>\n",
       "  </thead>\n",
       "  <tbody>\n",
       "    <tr>\n",
       "      <th>count</th>\n",
       "      <td>277.000000</td>\n",
       "      <td>277.000000</td>\n",
       "      <td>277.000000</td>\n",
       "      <td>277.000000</td>\n",
       "      <td>277.000000</td>\n",
       "      <td>277.000000</td>\n",
       "      <td>277.000000</td>\n",
       "      <td>277.000000</td>\n",
       "      <td>277.000000</td>\n",
       "      <td>277.000000</td>\n",
       "      <td>...</td>\n",
       "      <td>2.770000e+02</td>\n",
       "      <td>2.770000e+02</td>\n",
       "      <td>2.770000e+02</td>\n",
       "      <td>2.770000e+02</td>\n",
       "      <td>2.770000e+02</td>\n",
       "      <td>2.770000e+02</td>\n",
       "      <td>2.770000e+02</td>\n",
       "      <td>2.770000e+02</td>\n",
       "      <td>2.770000e+02</td>\n",
       "      <td>2.770000e+02</td>\n",
       "    </tr>\n",
       "    <tr>\n",
       "      <th>mean</th>\n",
       "      <td>20.305266</td>\n",
       "      <td>22.500100</td>\n",
       "      <td>2.010830</td>\n",
       "      <td>2.364621</td>\n",
       "      <td>3.397112</td>\n",
       "      <td>5.176895</td>\n",
       "      <td>7.646209</td>\n",
       "      <td>10.566787</td>\n",
       "      <td>20.137184</td>\n",
       "      <td>22.263538</td>\n",
       "      <td>...</td>\n",
       "      <td>8.344931e+05</td>\n",
       "      <td>8.358054e+05</td>\n",
       "      <td>8.370003e+05</td>\n",
       "      <td>8.387620e+05</td>\n",
       "      <td>8.403761e+05</td>\n",
       "      <td>8.421893e+05</td>\n",
       "      <td>8.439403e+05</td>\n",
       "      <td>8.459058e+05</td>\n",
       "      <td>8.471392e+05</td>\n",
       "      <td>8.481936e+05</td>\n",
       "    </tr>\n",
       "    <tr>\n",
       "      <th>std</th>\n",
       "      <td>25.206138</td>\n",
       "      <td>75.408236</td>\n",
       "      <td>26.733451</td>\n",
       "      <td>26.831207</td>\n",
       "      <td>33.404109</td>\n",
       "      <td>46.491792</td>\n",
       "      <td>64.973443</td>\n",
       "      <td>87.542330</td>\n",
       "      <td>214.814639</td>\n",
       "      <td>216.133076</td>\n",
       "      <td>...</td>\n",
       "      <td>3.659407e+06</td>\n",
       "      <td>3.663315e+06</td>\n",
       "      <td>3.666382e+06</td>\n",
       "      <td>3.675692e+06</td>\n",
       "      <td>3.681969e+06</td>\n",
       "      <td>3.689057e+06</td>\n",
       "      <td>3.695931e+06</td>\n",
       "      <td>3.704504e+06</td>\n",
       "      <td>3.707895e+06</td>\n",
       "      <td>3.710510e+06</td>\n",
       "    </tr>\n",
       "    <tr>\n",
       "      <th>min</th>\n",
       "      <td>-51.796300</td>\n",
       "      <td>-178.116500</td>\n",
       "      <td>0.000000</td>\n",
       "      <td>0.000000</td>\n",
       "      <td>0.000000</td>\n",
       "      <td>0.000000</td>\n",
       "      <td>0.000000</td>\n",
       "      <td>0.000000</td>\n",
       "      <td>0.000000</td>\n",
       "      <td>0.000000</td>\n",
       "      <td>...</td>\n",
       "      <td>0.000000e+00</td>\n",
       "      <td>0.000000e+00</td>\n",
       "      <td>0.000000e+00</td>\n",
       "      <td>0.000000e+00</td>\n",
       "      <td>0.000000e+00</td>\n",
       "      <td>0.000000e+00</td>\n",
       "      <td>0.000000e+00</td>\n",
       "      <td>0.000000e+00</td>\n",
       "      <td>0.000000e+00</td>\n",
       "      <td>0.000000e+00</td>\n",
       "    </tr>\n",
       "    <tr>\n",
       "      <th>25%</th>\n",
       "      <td>4.860416</td>\n",
       "      <td>-23.041800</td>\n",
       "      <td>0.000000</td>\n",
       "      <td>0.000000</td>\n",
       "      <td>0.000000</td>\n",
       "      <td>0.000000</td>\n",
       "      <td>0.000000</td>\n",
       "      <td>0.000000</td>\n",
       "      <td>0.000000</td>\n",
       "      <td>0.000000</td>\n",
       "      <td>...</td>\n",
       "      <td>2.642000e+03</td>\n",
       "      <td>2.642000e+03</td>\n",
       "      <td>2.642000e+03</td>\n",
       "      <td>2.642000e+03</td>\n",
       "      <td>2.642000e+03</td>\n",
       "      <td>2.642000e+03</td>\n",
       "      <td>2.642000e+03</td>\n",
       "      <td>2.854000e+03</td>\n",
       "      <td>2.859000e+03</td>\n",
       "      <td>2.868000e+03</td>\n",
       "    </tr>\n",
       "    <tr>\n",
       "      <th>50%</th>\n",
       "      <td>21.521757</td>\n",
       "      <td>20.939400</td>\n",
       "      <td>0.000000</td>\n",
       "      <td>0.000000</td>\n",
       "      <td>0.000000</td>\n",
       "      <td>0.000000</td>\n",
       "      <td>0.000000</td>\n",
       "      <td>0.000000</td>\n",
       "      <td>0.000000</td>\n",
       "      <td>0.000000</td>\n",
       "      <td>...</td>\n",
       "      <td>3.735500e+04</td>\n",
       "      <td>3.740000e+04</td>\n",
       "      <td>3.744800e+04</td>\n",
       "      <td>3.747200e+04</td>\n",
       "      <td>3.750100e+04</td>\n",
       "      <td>3.753500e+04</td>\n",
       "      <td>3.828300e+04</td>\n",
       "      <td>3.828300e+04</td>\n",
       "      <td>3.828300e+04</td>\n",
       "      <td>3.828300e+04</td>\n",
       "    </tr>\n",
       "    <tr>\n",
       "      <th>75%</th>\n",
       "      <td>40.463667</td>\n",
       "      <td>85.240100</td>\n",
       "      <td>0.000000</td>\n",
       "      <td>0.000000</td>\n",
       "      <td>0.000000</td>\n",
       "      <td>0.000000</td>\n",
       "      <td>0.000000</td>\n",
       "      <td>0.000000</td>\n",
       "      <td>0.000000</td>\n",
       "      <td>0.000000</td>\n",
       "      <td>...</td>\n",
       "      <td>3.630170e+05</td>\n",
       "      <td>3.630170e+05</td>\n",
       "      <td>3.630170e+05</td>\n",
       "      <td>3.633000e+05</td>\n",
       "      <td>3.661500e+05</td>\n",
       "      <td>3.676720e+05</td>\n",
       "      <td>3.689680e+05</td>\n",
       "      <td>3.689680e+05</td>\n",
       "      <td>3.703680e+05</td>\n",
       "      <td>3.733320e+05</td>\n",
       "    </tr>\n",
       "    <tr>\n",
       "      <th>max</th>\n",
       "      <td>71.706900</td>\n",
       "      <td>178.065000</td>\n",
       "      <td>444.000000</td>\n",
       "      <td>444.000000</td>\n",
       "      <td>549.000000</td>\n",
       "      <td>761.000000</td>\n",
       "      <td>1058.000000</td>\n",
       "      <td>1423.000000</td>\n",
       "      <td>3554.000000</td>\n",
       "      <td>3554.000000</td>\n",
       "      <td>...</td>\n",
       "      <td>4.285337e+07</td>\n",
       "      <td>4.290090e+07</td>\n",
       "      <td>4.293186e+07</td>\n",
       "      <td>4.311688e+07</td>\n",
       "      <td>4.322648e+07</td>\n",
       "      <td>4.334975e+07</td>\n",
       "      <td>4.346034e+07</td>\n",
       "      <td>4.361863e+07</td>\n",
       "      <td>4.365783e+07</td>\n",
       "      <td>4.368305e+07</td>\n",
       "    </tr>\n",
       "  </tbody>\n",
       "</table>\n",
       "<p>8 rows × 623 columns</p>\n",
       "</div>"
      ],
      "text/plain": [
       "              Lat        Long     1/22/20     1/23/20     1/24/20     1/25/20  \\\n",
       "count  277.000000  277.000000  277.000000  277.000000  277.000000  277.000000   \n",
       "mean    20.305266   22.500100    2.010830    2.364621    3.397112    5.176895   \n",
       "std     25.206138   75.408236   26.733451   26.831207   33.404109   46.491792   \n",
       "min    -51.796300 -178.116500    0.000000    0.000000    0.000000    0.000000   \n",
       "25%      4.860416  -23.041800    0.000000    0.000000    0.000000    0.000000   \n",
       "50%     21.521757   20.939400    0.000000    0.000000    0.000000    0.000000   \n",
       "75%     40.463667   85.240100    0.000000    0.000000    0.000000    0.000000   \n",
       "max     71.706900  178.065000  444.000000  444.000000  549.000000  761.000000   \n",
       "\n",
       "           1/26/20      1/27/20      1/28/20      1/29/20  ...       9/24/21  \\\n",
       "count   277.000000   277.000000   277.000000   277.000000  ...  2.770000e+02   \n",
       "mean      7.646209    10.566787    20.137184    22.263538  ...  8.344931e+05   \n",
       "std      64.973443    87.542330   214.814639   216.133076  ...  3.659407e+06   \n",
       "min       0.000000     0.000000     0.000000     0.000000  ...  0.000000e+00   \n",
       "25%       0.000000     0.000000     0.000000     0.000000  ...  2.642000e+03   \n",
       "50%       0.000000     0.000000     0.000000     0.000000  ...  3.735500e+04   \n",
       "75%       0.000000     0.000000     0.000000     0.000000  ...  3.630170e+05   \n",
       "max    1058.000000  1423.000000  3554.000000  3554.000000  ...  4.285337e+07   \n",
       "\n",
       "            9/25/21       9/26/21       9/27/21       9/28/21       9/29/21  \\\n",
       "count  2.770000e+02  2.770000e+02  2.770000e+02  2.770000e+02  2.770000e+02   \n",
       "mean   8.358054e+05  8.370003e+05  8.387620e+05  8.403761e+05  8.421893e+05   \n",
       "std    3.663315e+06  3.666382e+06  3.675692e+06  3.681969e+06  3.689057e+06   \n",
       "min    0.000000e+00  0.000000e+00  0.000000e+00  0.000000e+00  0.000000e+00   \n",
       "25%    2.642000e+03  2.642000e+03  2.642000e+03  2.642000e+03  2.642000e+03   \n",
       "50%    3.740000e+04  3.744800e+04  3.747200e+04  3.750100e+04  3.753500e+04   \n",
       "75%    3.630170e+05  3.630170e+05  3.633000e+05  3.661500e+05  3.676720e+05   \n",
       "max    4.290090e+07  4.293186e+07  4.311688e+07  4.322648e+07  4.334975e+07   \n",
       "\n",
       "            9/30/21       10/1/21       10/2/21       10/3/21  \n",
       "count  2.770000e+02  2.770000e+02  2.770000e+02  2.770000e+02  \n",
       "mean   8.439403e+05  8.459058e+05  8.471392e+05  8.481936e+05  \n",
       "std    3.695931e+06  3.704504e+06  3.707895e+06  3.710510e+06  \n",
       "min    0.000000e+00  0.000000e+00  0.000000e+00  0.000000e+00  \n",
       "25%    2.642000e+03  2.854000e+03  2.859000e+03  2.868000e+03  \n",
       "50%    3.828300e+04  3.828300e+04  3.828300e+04  3.828300e+04  \n",
       "75%    3.689680e+05  3.689680e+05  3.703680e+05  3.733320e+05  \n",
       "max    4.346034e+07  4.361863e+07  4.365783e+07  4.368305e+07  \n",
       "\n",
       "[8 rows x 623 columns]"
      ]
     },
     "execution_count": 10,
     "metadata": {},
     "output_type": "execute_result"
    }
   ],
   "source": [
    "country_timeseries.describe()"
   ]
  },
  {
   "cell_type": "code",
   "execution_count": 11,
   "id": "46dd5fd2",
   "metadata": {},
   "outputs": [
    {
     "data": {
      "text/html": [
       "<div>\n",
       "<style scoped>\n",
       "    .dataframe tbody tr th:only-of-type {\n",
       "        vertical-align: middle;\n",
       "    }\n",
       "\n",
       "    .dataframe tbody tr th {\n",
       "        vertical-align: top;\n",
       "    }\n",
       "\n",
       "    .dataframe thead th {\n",
       "        text-align: right;\n",
       "    }\n",
       "</style>\n",
       "<table border=\"1\" class=\"dataframe\">\n",
       "  <thead>\n",
       "    <tr style=\"text-align: right;\">\n",
       "      <th></th>\n",
       "      <th>Lat</th>\n",
       "      <th>Long</th>\n",
       "      <th>1/22/20</th>\n",
       "      <th>1/23/20</th>\n",
       "      <th>1/24/20</th>\n",
       "      <th>1/25/20</th>\n",
       "      <th>1/26/20</th>\n",
       "      <th>1/27/20</th>\n",
       "      <th>1/28/20</th>\n",
       "      <th>1/29/20</th>\n",
       "      <th>...</th>\n",
       "      <th>9/24/21</th>\n",
       "      <th>9/25/21</th>\n",
       "      <th>9/26/21</th>\n",
       "      <th>9/27/21</th>\n",
       "      <th>9/28/21</th>\n",
       "      <th>9/29/21</th>\n",
       "      <th>9/30/21</th>\n",
       "      <th>10/1/21</th>\n",
       "      <th>10/2/21</th>\n",
       "      <th>10/3/21</th>\n",
       "    </tr>\n",
       "    <tr>\n",
       "      <th>Country/Region</th>\n",
       "      <th></th>\n",
       "      <th></th>\n",
       "      <th></th>\n",
       "      <th></th>\n",
       "      <th></th>\n",
       "      <th></th>\n",
       "      <th></th>\n",
       "      <th></th>\n",
       "      <th></th>\n",
       "      <th></th>\n",
       "      <th></th>\n",
       "      <th></th>\n",
       "      <th></th>\n",
       "      <th></th>\n",
       "      <th></th>\n",
       "      <th></th>\n",
       "      <th></th>\n",
       "      <th></th>\n",
       "      <th></th>\n",
       "      <th></th>\n",
       "      <th></th>\n",
       "    </tr>\n",
       "  </thead>\n",
       "  <tbody>\n",
       "    <tr>\n",
       "      <th>Afghanistan</th>\n",
       "      <td>33.93911</td>\n",
       "      <td>67.709953</td>\n",
       "      <td>0</td>\n",
       "      <td>0</td>\n",
       "      <td>0</td>\n",
       "      <td>0</td>\n",
       "      <td>0</td>\n",
       "      <td>0</td>\n",
       "      <td>0</td>\n",
       "      <td>0</td>\n",
       "      <td>...</td>\n",
       "      <td>154960</td>\n",
       "      <td>154960</td>\n",
       "      <td>154960</td>\n",
       "      <td>155072</td>\n",
       "      <td>155093</td>\n",
       "      <td>155128</td>\n",
       "      <td>155174</td>\n",
       "      <td>155191</td>\n",
       "      <td>155191</td>\n",
       "      <td>155191</td>\n",
       "    </tr>\n",
       "    <tr>\n",
       "      <th>Albania</th>\n",
       "      <td>41.15330</td>\n",
       "      <td>20.168300</td>\n",
       "      <td>0</td>\n",
       "      <td>0</td>\n",
       "      <td>0</td>\n",
       "      <td>0</td>\n",
       "      <td>0</td>\n",
       "      <td>0</td>\n",
       "      <td>0</td>\n",
       "      <td>0</td>\n",
       "      <td>...</td>\n",
       "      <td>166690</td>\n",
       "      <td>167354</td>\n",
       "      <td>167893</td>\n",
       "      <td>168188</td>\n",
       "      <td>168782</td>\n",
       "      <td>169462</td>\n",
       "      <td>170131</td>\n",
       "      <td>170778</td>\n",
       "      <td>171327</td>\n",
       "      <td>171794</td>\n",
       "    </tr>\n",
       "    <tr>\n",
       "      <th>Algeria</th>\n",
       "      <td>28.03390</td>\n",
       "      <td>1.659600</td>\n",
       "      <td>0</td>\n",
       "      <td>0</td>\n",
       "      <td>0</td>\n",
       "      <td>0</td>\n",
       "      <td>0</td>\n",
       "      <td>0</td>\n",
       "      <td>0</td>\n",
       "      <td>0</td>\n",
       "      <td>...</td>\n",
       "      <td>202449</td>\n",
       "      <td>202574</td>\n",
       "      <td>202722</td>\n",
       "      <td>202877</td>\n",
       "      <td>203045</td>\n",
       "      <td>203198</td>\n",
       "      <td>203359</td>\n",
       "      <td>203517</td>\n",
       "      <td>203657</td>\n",
       "      <td>203789</td>\n",
       "    </tr>\n",
       "    <tr>\n",
       "      <th>Andorra</th>\n",
       "      <td>42.50630</td>\n",
       "      <td>1.521800</td>\n",
       "      <td>0</td>\n",
       "      <td>0</td>\n",
       "      <td>0</td>\n",
       "      <td>0</td>\n",
       "      <td>0</td>\n",
       "      <td>0</td>\n",
       "      <td>0</td>\n",
       "      <td>0</td>\n",
       "      <td>...</td>\n",
       "      <td>15167</td>\n",
       "      <td>15167</td>\n",
       "      <td>15167</td>\n",
       "      <td>15189</td>\n",
       "      <td>15192</td>\n",
       "      <td>15209</td>\n",
       "      <td>15222</td>\n",
       "      <td>15222</td>\n",
       "      <td>15222</td>\n",
       "      <td>15222</td>\n",
       "    </tr>\n",
       "    <tr>\n",
       "      <th>Angola</th>\n",
       "      <td>-11.20270</td>\n",
       "      <td>17.873900</td>\n",
       "      <td>0</td>\n",
       "      <td>0</td>\n",
       "      <td>0</td>\n",
       "      <td>0</td>\n",
       "      <td>0</td>\n",
       "      <td>0</td>\n",
       "      <td>0</td>\n",
       "      <td>0</td>\n",
       "      <td>...</td>\n",
       "      <td>54280</td>\n",
       "      <td>54795</td>\n",
       "      <td>55121</td>\n",
       "      <td>55583</td>\n",
       "      <td>56040</td>\n",
       "      <td>56583</td>\n",
       "      <td>56583</td>\n",
       "      <td>58076</td>\n",
       "      <td>58603</td>\n",
       "      <td>58943</td>\n",
       "    </tr>\n",
       "  </tbody>\n",
       "</table>\n",
       "<p>5 rows × 623 columns</p>\n",
       "</div>"
      ],
      "text/plain": [
       "                     Lat       Long  1/22/20  1/23/20  1/24/20  1/25/20  \\\n",
       "Country/Region                                                            \n",
       "Afghanistan     33.93911  67.709953        0        0        0        0   \n",
       "Albania         41.15330  20.168300        0        0        0        0   \n",
       "Algeria         28.03390   1.659600        0        0        0        0   \n",
       "Andorra         42.50630   1.521800        0        0        0        0   \n",
       "Angola         -11.20270  17.873900        0        0        0        0   \n",
       "\n",
       "                1/26/20  1/27/20  1/28/20  1/29/20  ...  9/24/21  9/25/21  \\\n",
       "Country/Region                                      ...                     \n",
       "Afghanistan           0        0        0        0  ...   154960   154960   \n",
       "Albania               0        0        0        0  ...   166690   167354   \n",
       "Algeria               0        0        0        0  ...   202449   202574   \n",
       "Andorra               0        0        0        0  ...    15167    15167   \n",
       "Angola                0        0        0        0  ...    54280    54795   \n",
       "\n",
       "                9/26/21  9/27/21  9/28/21  9/29/21  9/30/21  10/1/21  10/2/21  \\\n",
       "Country/Region                                                                  \n",
       "Afghanistan      154960   155072   155093   155128   155174   155191   155191   \n",
       "Albania          167893   168188   168782   169462   170131   170778   171327   \n",
       "Algeria          202722   202877   203045   203198   203359   203517   203657   \n",
       "Andorra           15167    15189    15192    15209    15222    15222    15222   \n",
       "Angola            55121    55583    56040    56583    56583    58076    58603   \n",
       "\n",
       "                10/3/21  \n",
       "Country/Region           \n",
       "Afghanistan      155191  \n",
       "Albania          171794  \n",
       "Algeria          203789  \n",
       "Andorra           15222  \n",
       "Angola            58943  \n",
       "\n",
       "[5 rows x 623 columns]"
      ]
     },
     "execution_count": 11,
     "metadata": {},
     "output_type": "execute_result"
    }
   ],
   "source": [
    "#set index to country\n",
    "country_timeseries= country_timeseries.set_index('Country/Region')\n",
    "country_timeseries.head()"
   ]
  },
  {
   "cell_type": "code",
   "execution_count": 12,
   "id": "4f15c90e",
   "metadata": {},
   "outputs": [
    {
     "data": {
      "text/plain": [
       "Lat        float64\n",
       "Long       float64\n",
       "1/22/20      int64\n",
       "1/23/20      int64\n",
       "1/24/20      int64\n",
       "            ...   \n",
       "9/29/21      int64\n",
       "9/30/21      int64\n",
       "10/1/21      int64\n",
       "10/2/21      int64\n",
       "10/3/21      int64\n",
       "Length: 623, dtype: object"
      ]
     },
     "execution_count": 12,
     "metadata": {},
     "output_type": "execute_result"
    }
   ],
   "source": [
    "country_timeseries.dtypes"
   ]
  },
  {
   "cell_type": "code",
   "execution_count": 13,
   "id": "0d70026c",
   "metadata": {},
   "outputs": [],
   "source": [
    "#goupby country \n",
    "cntry_confirmed= country_timeseries.groupby(['Country/Region']).sum()\n",
    "#look at top 20 countries\n",
    "n = 20\n",
    "cntry_confirmed = cntry_confirmed.sort_values(by=country_timeseries.columns[-1],\\\n",
    "                                                          ascending=False)[0:n]\n",
    "cntry_confirmed = cntry_confirmed.drop(['Lat', 'Long'], axis=1)"
   ]
  },
  {
   "cell_type": "code",
   "execution_count": 19,
   "id": "9370bd9c",
   "metadata": {},
   "outputs": [],
   "source": [
    "# change the pop. to read in millions \n",
    "scale_pop = 10000000  # scale population number by millions\n",
    "population = []\n",
    "df_pop = pd.read_csv('../optional_datasets/Novel_Corona_Virus_Dataset_Kaggle/population_by_country_2020.csv')\n",
    "for j in range(n):\n",
    "    country = cntry_confirmed.index[j]\n",
    "    population.append((df_pop[df_pop['Country (or dependency)'] == country]\\\n",
    "                       ['Population (2020)'] / scale_pop).to_numpy())"
   ]
  },
  {
   "cell_type": "code",
   "execution_count": 20,
   "id": "1373897d",
   "metadata": {},
   "outputs": [
    {
     "name": "stderr",
     "output_type": "stream",
     "text": [
      "/Users/celestemoreno/opt/anaconda3/envs/mlenv/lib/python3.7/site-packages/pandas/core/computation/expressions.py:69: VisibleDeprecationWarning:\n",
      "\n",
      "Creating an ndarray from ragged nested sequences (which is a list-or-tuple of lists-or-tuples-or ndarrays with different lengths or shapes) is deprecated. If you meant to do this, you must specify 'dtype=object' when creating the ndarray.\n",
      "\n"
     ]
    },
    {
     "data": {
      "application/vnd.plotly.v1+json": {
       "config": {
        "plotlyServerURL": "https://plot.ly"
       },
       "data": [
        {
         "name": "Total Cases",
         "type": "bar",
         "x": [
          "US",
          "India",
          "Brazil",
          "United Kingdom",
          "Russia",
          "Turkey",
          "France",
          "Iran",
          "Argentina",
          "Colombia",
          "Spain",
          "Italy",
          "Germany",
          "Indonesia",
          "Mexico",
          "Poland",
          "South Africa",
          "Philippines",
          "Ukraine",
          "Malaysia"
         ],
         "y": [
          43683048,
          33834702,
          21468121,
          7937810,
          7474850,
          7238237,
          7120214,
          5624128,
          5259738,
          4962054,
          4961128,
          4682034,
          4260494,
          4219284,
          3678980,
          2910866,
          2906422,
          2593399,
          2566875,
          2277565
         ]
        },
        {
         "name": "Normalized",
         "type": "bar",
         "x": [
          "US",
          "India",
          "Brazil",
          "United Kingdom",
          "Russia",
          "Turkey",
          "France",
          "Iran",
          "Argentina",
          "Colombia",
          "Spain",
          "Italy",
          "Germany",
          "Indonesia",
          "Mexico",
          "Poland",
          "South Africa",
          "Philippines",
          "Ukraine",
          "Malaysia"
         ],
         "y": [
          [],
          [
           245671.49604591785
          ],
          [
           1011439.4533131783
          ],
          [
           1170525.0433324352
          ],
          [
           512249.65993820946
          ],
          [
           860125.6635958803
          ],
          [
           1091310.3834387714
          ],
          [
           671364.6239028514
          ],
          [
           1165948.7264246335
          ],
          [
           977323.3127204789
          ],
          [
           1061177.1789692987
          ],
          [
           774153.2062210116
          ],
          [
           508835.8596632425
          ],
          [
           154591.1962235037
          ],
          [
           285955.7076840245
          ],
          [
           768955.0803629392
          ],
          [
           491324.7786713917
          ],
          [
           237316.14751611825
          ],
          [
           586243.6560071706
          ],
          [
           705552.0326288753
          ]
         ]
        }
       ],
       "layout": {
        "barmode": "group",
        "template": {
         "data": {
          "bar": [
           {
            "error_x": {
             "color": "#2a3f5f"
            },
            "error_y": {
             "color": "#2a3f5f"
            },
            "marker": {
             "line": {
              "color": "#E5ECF6",
              "width": 0.5
             },
             "pattern": {
              "fillmode": "overlay",
              "size": 10,
              "solidity": 0.2
             }
            },
            "type": "bar"
           }
          ],
          "barpolar": [
           {
            "marker": {
             "line": {
              "color": "#E5ECF6",
              "width": 0.5
             },
             "pattern": {
              "fillmode": "overlay",
              "size": 10,
              "solidity": 0.2
             }
            },
            "type": "barpolar"
           }
          ],
          "carpet": [
           {
            "aaxis": {
             "endlinecolor": "#2a3f5f",
             "gridcolor": "white",
             "linecolor": "white",
             "minorgridcolor": "white",
             "startlinecolor": "#2a3f5f"
            },
            "baxis": {
             "endlinecolor": "#2a3f5f",
             "gridcolor": "white",
             "linecolor": "white",
             "minorgridcolor": "white",
             "startlinecolor": "#2a3f5f"
            },
            "type": "carpet"
           }
          ],
          "choropleth": [
           {
            "colorbar": {
             "outlinewidth": 0,
             "ticks": ""
            },
            "type": "choropleth"
           }
          ],
          "contour": [
           {
            "colorbar": {
             "outlinewidth": 0,
             "ticks": ""
            },
            "colorscale": [
             [
              0,
              "#0d0887"
             ],
             [
              0.1111111111111111,
              "#46039f"
             ],
             [
              0.2222222222222222,
              "#7201a8"
             ],
             [
              0.3333333333333333,
              "#9c179e"
             ],
             [
              0.4444444444444444,
              "#bd3786"
             ],
             [
              0.5555555555555556,
              "#d8576b"
             ],
             [
              0.6666666666666666,
              "#ed7953"
             ],
             [
              0.7777777777777778,
              "#fb9f3a"
             ],
             [
              0.8888888888888888,
              "#fdca26"
             ],
             [
              1,
              "#f0f921"
             ]
            ],
            "type": "contour"
           }
          ],
          "contourcarpet": [
           {
            "colorbar": {
             "outlinewidth": 0,
             "ticks": ""
            },
            "type": "contourcarpet"
           }
          ],
          "heatmap": [
           {
            "colorbar": {
             "outlinewidth": 0,
             "ticks": ""
            },
            "colorscale": [
             [
              0,
              "#0d0887"
             ],
             [
              0.1111111111111111,
              "#46039f"
             ],
             [
              0.2222222222222222,
              "#7201a8"
             ],
             [
              0.3333333333333333,
              "#9c179e"
             ],
             [
              0.4444444444444444,
              "#bd3786"
             ],
             [
              0.5555555555555556,
              "#d8576b"
             ],
             [
              0.6666666666666666,
              "#ed7953"
             ],
             [
              0.7777777777777778,
              "#fb9f3a"
             ],
             [
              0.8888888888888888,
              "#fdca26"
             ],
             [
              1,
              "#f0f921"
             ]
            ],
            "type": "heatmap"
           }
          ],
          "heatmapgl": [
           {
            "colorbar": {
             "outlinewidth": 0,
             "ticks": ""
            },
            "colorscale": [
             [
              0,
              "#0d0887"
             ],
             [
              0.1111111111111111,
              "#46039f"
             ],
             [
              0.2222222222222222,
              "#7201a8"
             ],
             [
              0.3333333333333333,
              "#9c179e"
             ],
             [
              0.4444444444444444,
              "#bd3786"
             ],
             [
              0.5555555555555556,
              "#d8576b"
             ],
             [
              0.6666666666666666,
              "#ed7953"
             ],
             [
              0.7777777777777778,
              "#fb9f3a"
             ],
             [
              0.8888888888888888,
              "#fdca26"
             ],
             [
              1,
              "#f0f921"
             ]
            ],
            "type": "heatmapgl"
           }
          ],
          "histogram": [
           {
            "marker": {
             "pattern": {
              "fillmode": "overlay",
              "size": 10,
              "solidity": 0.2
             }
            },
            "type": "histogram"
           }
          ],
          "histogram2d": [
           {
            "colorbar": {
             "outlinewidth": 0,
             "ticks": ""
            },
            "colorscale": [
             [
              0,
              "#0d0887"
             ],
             [
              0.1111111111111111,
              "#46039f"
             ],
             [
              0.2222222222222222,
              "#7201a8"
             ],
             [
              0.3333333333333333,
              "#9c179e"
             ],
             [
              0.4444444444444444,
              "#bd3786"
             ],
             [
              0.5555555555555556,
              "#d8576b"
             ],
             [
              0.6666666666666666,
              "#ed7953"
             ],
             [
              0.7777777777777778,
              "#fb9f3a"
             ],
             [
              0.8888888888888888,
              "#fdca26"
             ],
             [
              1,
              "#f0f921"
             ]
            ],
            "type": "histogram2d"
           }
          ],
          "histogram2dcontour": [
           {
            "colorbar": {
             "outlinewidth": 0,
             "ticks": ""
            },
            "colorscale": [
             [
              0,
              "#0d0887"
             ],
             [
              0.1111111111111111,
              "#46039f"
             ],
             [
              0.2222222222222222,
              "#7201a8"
             ],
             [
              0.3333333333333333,
              "#9c179e"
             ],
             [
              0.4444444444444444,
              "#bd3786"
             ],
             [
              0.5555555555555556,
              "#d8576b"
             ],
             [
              0.6666666666666666,
              "#ed7953"
             ],
             [
              0.7777777777777778,
              "#fb9f3a"
             ],
             [
              0.8888888888888888,
              "#fdca26"
             ],
             [
              1,
              "#f0f921"
             ]
            ],
            "type": "histogram2dcontour"
           }
          ],
          "mesh3d": [
           {
            "colorbar": {
             "outlinewidth": 0,
             "ticks": ""
            },
            "type": "mesh3d"
           }
          ],
          "parcoords": [
           {
            "line": {
             "colorbar": {
              "outlinewidth": 0,
              "ticks": ""
             }
            },
            "type": "parcoords"
           }
          ],
          "pie": [
           {
            "automargin": true,
            "type": "pie"
           }
          ],
          "scatter": [
           {
            "marker": {
             "colorbar": {
              "outlinewidth": 0,
              "ticks": ""
             }
            },
            "type": "scatter"
           }
          ],
          "scatter3d": [
           {
            "line": {
             "colorbar": {
              "outlinewidth": 0,
              "ticks": ""
             }
            },
            "marker": {
             "colorbar": {
              "outlinewidth": 0,
              "ticks": ""
             }
            },
            "type": "scatter3d"
           }
          ],
          "scattercarpet": [
           {
            "marker": {
             "colorbar": {
              "outlinewidth": 0,
              "ticks": ""
             }
            },
            "type": "scattercarpet"
           }
          ],
          "scattergeo": [
           {
            "marker": {
             "colorbar": {
              "outlinewidth": 0,
              "ticks": ""
             }
            },
            "type": "scattergeo"
           }
          ],
          "scattergl": [
           {
            "marker": {
             "colorbar": {
              "outlinewidth": 0,
              "ticks": ""
             }
            },
            "type": "scattergl"
           }
          ],
          "scattermapbox": [
           {
            "marker": {
             "colorbar": {
              "outlinewidth": 0,
              "ticks": ""
             }
            },
            "type": "scattermapbox"
           }
          ],
          "scatterpolar": [
           {
            "marker": {
             "colorbar": {
              "outlinewidth": 0,
              "ticks": ""
             }
            },
            "type": "scatterpolar"
           }
          ],
          "scatterpolargl": [
           {
            "marker": {
             "colorbar": {
              "outlinewidth": 0,
              "ticks": ""
             }
            },
            "type": "scatterpolargl"
           }
          ],
          "scatterternary": [
           {
            "marker": {
             "colorbar": {
              "outlinewidth": 0,
              "ticks": ""
             }
            },
            "type": "scatterternary"
           }
          ],
          "surface": [
           {
            "colorbar": {
             "outlinewidth": 0,
             "ticks": ""
            },
            "colorscale": [
             [
              0,
              "#0d0887"
             ],
             [
              0.1111111111111111,
              "#46039f"
             ],
             [
              0.2222222222222222,
              "#7201a8"
             ],
             [
              0.3333333333333333,
              "#9c179e"
             ],
             [
              0.4444444444444444,
              "#bd3786"
             ],
             [
              0.5555555555555556,
              "#d8576b"
             ],
             [
              0.6666666666666666,
              "#ed7953"
             ],
             [
              0.7777777777777778,
              "#fb9f3a"
             ],
             [
              0.8888888888888888,
              "#fdca26"
             ],
             [
              1,
              "#f0f921"
             ]
            ],
            "type": "surface"
           }
          ],
          "table": [
           {
            "cells": {
             "fill": {
              "color": "#EBF0F8"
             },
             "line": {
              "color": "white"
             }
            },
            "header": {
             "fill": {
              "color": "#C8D4E3"
             },
             "line": {
              "color": "white"
             }
            },
            "type": "table"
           }
          ]
         },
         "layout": {
          "annotationdefaults": {
           "arrowcolor": "#2a3f5f",
           "arrowhead": 0,
           "arrowwidth": 1
          },
          "autotypenumbers": "strict",
          "coloraxis": {
           "colorbar": {
            "outlinewidth": 0,
            "ticks": ""
           }
          },
          "colorscale": {
           "diverging": [
            [
             0,
             "#8e0152"
            ],
            [
             0.1,
             "#c51b7d"
            ],
            [
             0.2,
             "#de77ae"
            ],
            [
             0.3,
             "#f1b6da"
            ],
            [
             0.4,
             "#fde0ef"
            ],
            [
             0.5,
             "#f7f7f7"
            ],
            [
             0.6,
             "#e6f5d0"
            ],
            [
             0.7,
             "#b8e186"
            ],
            [
             0.8,
             "#7fbc41"
            ],
            [
             0.9,
             "#4d9221"
            ],
            [
             1,
             "#276419"
            ]
           ],
           "sequential": [
            [
             0,
             "#0d0887"
            ],
            [
             0.1111111111111111,
             "#46039f"
            ],
            [
             0.2222222222222222,
             "#7201a8"
            ],
            [
             0.3333333333333333,
             "#9c179e"
            ],
            [
             0.4444444444444444,
             "#bd3786"
            ],
            [
             0.5555555555555556,
             "#d8576b"
            ],
            [
             0.6666666666666666,
             "#ed7953"
            ],
            [
             0.7777777777777778,
             "#fb9f3a"
            ],
            [
             0.8888888888888888,
             "#fdca26"
            ],
            [
             1,
             "#f0f921"
            ]
           ],
           "sequentialminus": [
            [
             0,
             "#0d0887"
            ],
            [
             0.1111111111111111,
             "#46039f"
            ],
            [
             0.2222222222222222,
             "#7201a8"
            ],
            [
             0.3333333333333333,
             "#9c179e"
            ],
            [
             0.4444444444444444,
             "#bd3786"
            ],
            [
             0.5555555555555556,
             "#d8576b"
            ],
            [
             0.6666666666666666,
             "#ed7953"
            ],
            [
             0.7777777777777778,
             "#fb9f3a"
            ],
            [
             0.8888888888888888,
             "#fdca26"
            ],
            [
             1,
             "#f0f921"
            ]
           ]
          },
          "colorway": [
           "#636efa",
           "#EF553B",
           "#00cc96",
           "#ab63fa",
           "#FFA15A",
           "#19d3f3",
           "#FF6692",
           "#B6E880",
           "#FF97FF",
           "#FECB52"
          ],
          "font": {
           "color": "#2a3f5f"
          },
          "geo": {
           "bgcolor": "white",
           "lakecolor": "white",
           "landcolor": "#E5ECF6",
           "showlakes": true,
           "showland": true,
           "subunitcolor": "white"
          },
          "hoverlabel": {
           "align": "left"
          },
          "hovermode": "closest",
          "mapbox": {
           "style": "light"
          },
          "paper_bgcolor": "white",
          "plot_bgcolor": "#E5ECF6",
          "polar": {
           "angularaxis": {
            "gridcolor": "white",
            "linecolor": "white",
            "ticks": ""
           },
           "bgcolor": "#E5ECF6",
           "radialaxis": {
            "gridcolor": "white",
            "linecolor": "white",
            "ticks": ""
           }
          },
          "scene": {
           "xaxis": {
            "backgroundcolor": "#E5ECF6",
            "gridcolor": "white",
            "gridwidth": 2,
            "linecolor": "white",
            "showbackground": true,
            "ticks": "",
            "zerolinecolor": "white"
           },
           "yaxis": {
            "backgroundcolor": "#E5ECF6",
            "gridcolor": "white",
            "gridwidth": 2,
            "linecolor": "white",
            "showbackground": true,
            "ticks": "",
            "zerolinecolor": "white"
           },
           "zaxis": {
            "backgroundcolor": "#E5ECF6",
            "gridcolor": "white",
            "gridwidth": 2,
            "linecolor": "white",
            "showbackground": true,
            "ticks": "",
            "zerolinecolor": "white"
           }
          },
          "shapedefaults": {
           "line": {
            "color": "#2a3f5f"
           }
          },
          "ternary": {
           "aaxis": {
            "gridcolor": "white",
            "linecolor": "white",
            "ticks": ""
           },
           "baxis": {
            "gridcolor": "white",
            "linecolor": "white",
            "ticks": ""
           },
           "bgcolor": "#E5ECF6",
           "caxis": {
            "gridcolor": "white",
            "linecolor": "white",
            "ticks": ""
           }
          },
          "title": {
           "x": 0.05
          },
          "xaxis": {
           "automargin": true,
           "gridcolor": "white",
           "linecolor": "white",
           "ticks": "",
           "title": {
            "standoff": 15
           },
           "zerolinecolor": "white",
           "zerolinewidth": 2
          },
          "yaxis": {
           "automargin": true,
           "gridcolor": "white",
           "linecolor": "white",
           "ticks": "",
           "title": {
            "standoff": 15
           },
           "zerolinecolor": "white",
           "zerolinewidth": 2
          }
         }
        },
        "title": {
         "text": "Countries with most Covid Cases<br>Total Confirmed Cases and<br>Total Confirmed Cases Normalized per Million in Population",
         "x": 0.5
        },
        "yaxis": {
         "title": {
          "text": "Cases - Cases Normalized"
         },
         "type": "log"
        }
       }
      },
      "text/html": [
       "<div>                            <div id=\"8d3b5347-af14-4412-8c95-fe0a144e1c55\" class=\"plotly-graph-div\" style=\"height:525px; width:100%;\"></div>            <script type=\"text/javascript\">                require([\"plotly\"], function(Plotly) {                    window.PLOTLYENV=window.PLOTLYENV || {};                                    if (document.getElementById(\"8d3b5347-af14-4412-8c95-fe0a144e1c55\")) {                    Plotly.newPlot(                        \"8d3b5347-af14-4412-8c95-fe0a144e1c55\",                        [{\"name\":\"Total Cases\",\"x\":[\"US\",\"India\",\"Brazil\",\"United Kingdom\",\"Russia\",\"Turkey\",\"France\",\"Iran\",\"Argentina\",\"Colombia\",\"Spain\",\"Italy\",\"Germany\",\"Indonesia\",\"Mexico\",\"Poland\",\"South Africa\",\"Philippines\",\"Ukraine\",\"Malaysia\"],\"y\":[43683048,33834702,21468121,7937810,7474850,7238237,7120214,5624128,5259738,4962054,4961128,4682034,4260494,4219284,3678980,2910866,2906422,2593399,2566875,2277565],\"type\":\"bar\"},{\"name\":\"Normalized\",\"x\":[\"US\",\"India\",\"Brazil\",\"United Kingdom\",\"Russia\",\"Turkey\",\"France\",\"Iran\",\"Argentina\",\"Colombia\",\"Spain\",\"Italy\",\"Germany\",\"Indonesia\",\"Mexico\",\"Poland\",\"South Africa\",\"Philippines\",\"Ukraine\",\"Malaysia\"],\"y\":[[],[245671.49604591785],[1011439.4533131783],[1170525.0433324352],[512249.65993820946],[860125.6635958803],[1091310.3834387714],[671364.6239028514],[1165948.7264246335],[977323.3127204789],[1061177.1789692987],[774153.2062210116],[508835.8596632425],[154591.1962235037],[285955.7076840245],[768955.0803629392],[491324.7786713917],[237316.14751611825],[586243.6560071706],[705552.0326288753]],\"type\":\"bar\"}],                        {\"template\":{\"data\":{\"bar\":[{\"error_x\":{\"color\":\"#2a3f5f\"},\"error_y\":{\"color\":\"#2a3f5f\"},\"marker\":{\"line\":{\"color\":\"#E5ECF6\",\"width\":0.5},\"pattern\":{\"fillmode\":\"overlay\",\"size\":10,\"solidity\":0.2}},\"type\":\"bar\"}],\"barpolar\":[{\"marker\":{\"line\":{\"color\":\"#E5ECF6\",\"width\":0.5},\"pattern\":{\"fillmode\":\"overlay\",\"size\":10,\"solidity\":0.2}},\"type\":\"barpolar\"}],\"carpet\":[{\"aaxis\":{\"endlinecolor\":\"#2a3f5f\",\"gridcolor\":\"white\",\"linecolor\":\"white\",\"minorgridcolor\":\"white\",\"startlinecolor\":\"#2a3f5f\"},\"baxis\":{\"endlinecolor\":\"#2a3f5f\",\"gridcolor\":\"white\",\"linecolor\":\"white\",\"minorgridcolor\":\"white\",\"startlinecolor\":\"#2a3f5f\"},\"type\":\"carpet\"}],\"choropleth\":[{\"colorbar\":{\"outlinewidth\":0,\"ticks\":\"\"},\"type\":\"choropleth\"}],\"contour\":[{\"colorbar\":{\"outlinewidth\":0,\"ticks\":\"\"},\"colorscale\":[[0.0,\"#0d0887\"],[0.1111111111111111,\"#46039f\"],[0.2222222222222222,\"#7201a8\"],[0.3333333333333333,\"#9c179e\"],[0.4444444444444444,\"#bd3786\"],[0.5555555555555556,\"#d8576b\"],[0.6666666666666666,\"#ed7953\"],[0.7777777777777778,\"#fb9f3a\"],[0.8888888888888888,\"#fdca26\"],[1.0,\"#f0f921\"]],\"type\":\"contour\"}],\"contourcarpet\":[{\"colorbar\":{\"outlinewidth\":0,\"ticks\":\"\"},\"type\":\"contourcarpet\"}],\"heatmap\":[{\"colorbar\":{\"outlinewidth\":0,\"ticks\":\"\"},\"colorscale\":[[0.0,\"#0d0887\"],[0.1111111111111111,\"#46039f\"],[0.2222222222222222,\"#7201a8\"],[0.3333333333333333,\"#9c179e\"],[0.4444444444444444,\"#bd3786\"],[0.5555555555555556,\"#d8576b\"],[0.6666666666666666,\"#ed7953\"],[0.7777777777777778,\"#fb9f3a\"],[0.8888888888888888,\"#fdca26\"],[1.0,\"#f0f921\"]],\"type\":\"heatmap\"}],\"heatmapgl\":[{\"colorbar\":{\"outlinewidth\":0,\"ticks\":\"\"},\"colorscale\":[[0.0,\"#0d0887\"],[0.1111111111111111,\"#46039f\"],[0.2222222222222222,\"#7201a8\"],[0.3333333333333333,\"#9c179e\"],[0.4444444444444444,\"#bd3786\"],[0.5555555555555556,\"#d8576b\"],[0.6666666666666666,\"#ed7953\"],[0.7777777777777778,\"#fb9f3a\"],[0.8888888888888888,\"#fdca26\"],[1.0,\"#f0f921\"]],\"type\":\"heatmapgl\"}],\"histogram\":[{\"marker\":{\"pattern\":{\"fillmode\":\"overlay\",\"size\":10,\"solidity\":0.2}},\"type\":\"histogram\"}],\"histogram2d\":[{\"colorbar\":{\"outlinewidth\":0,\"ticks\":\"\"},\"colorscale\":[[0.0,\"#0d0887\"],[0.1111111111111111,\"#46039f\"],[0.2222222222222222,\"#7201a8\"],[0.3333333333333333,\"#9c179e\"],[0.4444444444444444,\"#bd3786\"],[0.5555555555555556,\"#d8576b\"],[0.6666666666666666,\"#ed7953\"],[0.7777777777777778,\"#fb9f3a\"],[0.8888888888888888,\"#fdca26\"],[1.0,\"#f0f921\"]],\"type\":\"histogram2d\"}],\"histogram2dcontour\":[{\"colorbar\":{\"outlinewidth\":0,\"ticks\":\"\"},\"colorscale\":[[0.0,\"#0d0887\"],[0.1111111111111111,\"#46039f\"],[0.2222222222222222,\"#7201a8\"],[0.3333333333333333,\"#9c179e\"],[0.4444444444444444,\"#bd3786\"],[0.5555555555555556,\"#d8576b\"],[0.6666666666666666,\"#ed7953\"],[0.7777777777777778,\"#fb9f3a\"],[0.8888888888888888,\"#fdca26\"],[1.0,\"#f0f921\"]],\"type\":\"histogram2dcontour\"}],\"mesh3d\":[{\"colorbar\":{\"outlinewidth\":0,\"ticks\":\"\"},\"type\":\"mesh3d\"}],\"parcoords\":[{\"line\":{\"colorbar\":{\"outlinewidth\":0,\"ticks\":\"\"}},\"type\":\"parcoords\"}],\"pie\":[{\"automargin\":true,\"type\":\"pie\"}],\"scatter\":[{\"marker\":{\"colorbar\":{\"outlinewidth\":0,\"ticks\":\"\"}},\"type\":\"scatter\"}],\"scatter3d\":[{\"line\":{\"colorbar\":{\"outlinewidth\":0,\"ticks\":\"\"}},\"marker\":{\"colorbar\":{\"outlinewidth\":0,\"ticks\":\"\"}},\"type\":\"scatter3d\"}],\"scattercarpet\":[{\"marker\":{\"colorbar\":{\"outlinewidth\":0,\"ticks\":\"\"}},\"type\":\"scattercarpet\"}],\"scattergeo\":[{\"marker\":{\"colorbar\":{\"outlinewidth\":0,\"ticks\":\"\"}},\"type\":\"scattergeo\"}],\"scattergl\":[{\"marker\":{\"colorbar\":{\"outlinewidth\":0,\"ticks\":\"\"}},\"type\":\"scattergl\"}],\"scattermapbox\":[{\"marker\":{\"colorbar\":{\"outlinewidth\":0,\"ticks\":\"\"}},\"type\":\"scattermapbox\"}],\"scatterpolar\":[{\"marker\":{\"colorbar\":{\"outlinewidth\":0,\"ticks\":\"\"}},\"type\":\"scatterpolar\"}],\"scatterpolargl\":[{\"marker\":{\"colorbar\":{\"outlinewidth\":0,\"ticks\":\"\"}},\"type\":\"scatterpolargl\"}],\"scatterternary\":[{\"marker\":{\"colorbar\":{\"outlinewidth\":0,\"ticks\":\"\"}},\"type\":\"scatterternary\"}],\"surface\":[{\"colorbar\":{\"outlinewidth\":0,\"ticks\":\"\"},\"colorscale\":[[0.0,\"#0d0887\"],[0.1111111111111111,\"#46039f\"],[0.2222222222222222,\"#7201a8\"],[0.3333333333333333,\"#9c179e\"],[0.4444444444444444,\"#bd3786\"],[0.5555555555555556,\"#d8576b\"],[0.6666666666666666,\"#ed7953\"],[0.7777777777777778,\"#fb9f3a\"],[0.8888888888888888,\"#fdca26\"],[1.0,\"#f0f921\"]],\"type\":\"surface\"}],\"table\":[{\"cells\":{\"fill\":{\"color\":\"#EBF0F8\"},\"line\":{\"color\":\"white\"}},\"header\":{\"fill\":{\"color\":\"#C8D4E3\"},\"line\":{\"color\":\"white\"}},\"type\":\"table\"}]},\"layout\":{\"annotationdefaults\":{\"arrowcolor\":\"#2a3f5f\",\"arrowhead\":0,\"arrowwidth\":1},\"autotypenumbers\":\"strict\",\"coloraxis\":{\"colorbar\":{\"outlinewidth\":0,\"ticks\":\"\"}},\"colorscale\":{\"diverging\":[[0,\"#8e0152\"],[0.1,\"#c51b7d\"],[0.2,\"#de77ae\"],[0.3,\"#f1b6da\"],[0.4,\"#fde0ef\"],[0.5,\"#f7f7f7\"],[0.6,\"#e6f5d0\"],[0.7,\"#b8e186\"],[0.8,\"#7fbc41\"],[0.9,\"#4d9221\"],[1,\"#276419\"]],\"sequential\":[[0.0,\"#0d0887\"],[0.1111111111111111,\"#46039f\"],[0.2222222222222222,\"#7201a8\"],[0.3333333333333333,\"#9c179e\"],[0.4444444444444444,\"#bd3786\"],[0.5555555555555556,\"#d8576b\"],[0.6666666666666666,\"#ed7953\"],[0.7777777777777778,\"#fb9f3a\"],[0.8888888888888888,\"#fdca26\"],[1.0,\"#f0f921\"]],\"sequentialminus\":[[0.0,\"#0d0887\"],[0.1111111111111111,\"#46039f\"],[0.2222222222222222,\"#7201a8\"],[0.3333333333333333,\"#9c179e\"],[0.4444444444444444,\"#bd3786\"],[0.5555555555555556,\"#d8576b\"],[0.6666666666666666,\"#ed7953\"],[0.7777777777777778,\"#fb9f3a\"],[0.8888888888888888,\"#fdca26\"],[1.0,\"#f0f921\"]]},\"colorway\":[\"#636efa\",\"#EF553B\",\"#00cc96\",\"#ab63fa\",\"#FFA15A\",\"#19d3f3\",\"#FF6692\",\"#B6E880\",\"#FF97FF\",\"#FECB52\"],\"font\":{\"color\":\"#2a3f5f\"},\"geo\":{\"bgcolor\":\"white\",\"lakecolor\":\"white\",\"landcolor\":\"#E5ECF6\",\"showlakes\":true,\"showland\":true,\"subunitcolor\":\"white\"},\"hoverlabel\":{\"align\":\"left\"},\"hovermode\":\"closest\",\"mapbox\":{\"style\":\"light\"},\"paper_bgcolor\":\"white\",\"plot_bgcolor\":\"#E5ECF6\",\"polar\":{\"angularaxis\":{\"gridcolor\":\"white\",\"linecolor\":\"white\",\"ticks\":\"\"},\"bgcolor\":\"#E5ECF6\",\"radialaxis\":{\"gridcolor\":\"white\",\"linecolor\":\"white\",\"ticks\":\"\"}},\"scene\":{\"xaxis\":{\"backgroundcolor\":\"#E5ECF6\",\"gridcolor\":\"white\",\"gridwidth\":2,\"linecolor\":\"white\",\"showbackground\":true,\"ticks\":\"\",\"zerolinecolor\":\"white\"},\"yaxis\":{\"backgroundcolor\":\"#E5ECF6\",\"gridcolor\":\"white\",\"gridwidth\":2,\"linecolor\":\"white\",\"showbackground\":true,\"ticks\":\"\",\"zerolinecolor\":\"white\"},\"zaxis\":{\"backgroundcolor\":\"#E5ECF6\",\"gridcolor\":\"white\",\"gridwidth\":2,\"linecolor\":\"white\",\"showbackground\":true,\"ticks\":\"\",\"zerolinecolor\":\"white\"}},\"shapedefaults\":{\"line\":{\"color\":\"#2a3f5f\"}},\"ternary\":{\"aaxis\":{\"gridcolor\":\"white\",\"linecolor\":\"white\",\"ticks\":\"\"},\"baxis\":{\"gridcolor\":\"white\",\"linecolor\":\"white\",\"ticks\":\"\"},\"bgcolor\":\"#E5ECF6\",\"caxis\":{\"gridcolor\":\"white\",\"linecolor\":\"white\",\"ticks\":\"\"}},\"title\":{\"x\":0.05},\"xaxis\":{\"automargin\":true,\"gridcolor\":\"white\",\"linecolor\":\"white\",\"ticks\":\"\",\"title\":{\"standoff\":15},\"zerolinecolor\":\"white\",\"zerolinewidth\":2},\"yaxis\":{\"automargin\":true,\"gridcolor\":\"white\",\"linecolor\":\"white\",\"ticks\":\"\",\"title\":{\"standoff\":15},\"zerolinecolor\":\"white\",\"zerolinewidth\":2}}},\"barmode\":\"group\",\"yaxis\":{\"type\":\"log\",\"title\":{\"text\":\"Cases - Cases Normalized\"}},\"title\":{\"text\":\"Countries with most Covid Cases<br>Total Confirmed Cases and<br>Total Confirmed Cases Normalized per Million in Population\",\"x\":0.5}},                        {\"responsive\": true}                    ).then(function(){\n",
       "                            \n",
       "var gd = document.getElementById('8d3b5347-af14-4412-8c95-fe0a144e1c55');\n",
       "var x = new MutationObserver(function (mutations, observer) {{\n",
       "        var display = window.getComputedStyle(gd).display;\n",
       "        if (!display || display === 'none') {{\n",
       "            console.log([gd, 'removed!']);\n",
       "            Plotly.purge(gd);\n",
       "            observer.disconnect();\n",
       "        }}\n",
       "}});\n",
       "\n",
       "// Listen for the removal of the full notebook cells\n",
       "var notebookContainer = gd.closest('#notebook-container');\n",
       "if (notebookContainer) {{\n",
       "    x.observe(notebookContainer, {childList: true});\n",
       "}}\n",
       "\n",
       "// Listen for the clearing of the current output cell\n",
       "var outputEl = gd.closest('.output');\n",
       "if (outputEl) {{\n",
       "    x.observe(outputEl, {childList: true});\n",
       "}}\n",
       "\n",
       "                        })                };                });            </script>        </div>"
      ]
     },
     "metadata": {},
     "output_type": "display_data"
    }
   ],
   "source": [
    "countries=cntry_confirmed .index\n",
    "cumulative = cntry_confirmed .iloc[:,-1]\n",
    "\n",
    "fig = go.Figure(data=[\n",
    "    go.Bar(name='Total Cases', x=countries, y=cumulative),\n",
    "    go.Bar(name='Normalized', x=countries, y=cumulative / population )\n",
    "])\n",
    "# Change the bar mode\n",
    "fig.update_layout(barmode='group')\n",
    "fig.update_yaxes(type='log')\n",
    "\n",
    "fig.update_layout(title=\"Countries with most Covid Cases<br>Total Confirmed Cases and<br>Total Confirmed Cases Normalized per Million in Population\",\n",
    "                title_x=0.5,\n",
    "                  yaxis_title=\"Cases - Cases Normalized\")\n",
    "fig.show()"
   ]
  },
  {
   "cell_type": "code",
   "execution_count": null,
   "id": "4182df92",
   "metadata": {},
   "outputs": [],
   "source": []
  },
  {
   "cell_type": "code",
   "execution_count": null,
   "id": "135e8ad1",
   "metadata": {},
   "outputs": [],
   "source": []
  }
 ],
 "metadata": {
  "kernelspec": {
   "display_name": "mlenv",
   "language": "python",
   "name": "mlenv"
  },
  "language_info": {
   "codemirror_mode": {
    "name": "ipython",
    "version": 3
   },
   "file_extension": ".py",
   "mimetype": "text/x-python",
   "name": "python",
   "nbconvert_exporter": "python",
   "pygments_lexer": "ipython3",
   "version": "3.7.13"
  }
 },
 "nbformat": 4,
 "nbformat_minor": 5
}
